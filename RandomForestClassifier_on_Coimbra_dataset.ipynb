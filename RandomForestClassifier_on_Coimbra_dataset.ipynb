{
  "nbformat": 4,
  "nbformat_minor": 0,
  "metadata": {
    "colab": {
      "name": "RandomForestClassifier on Coimbra dataset",
      "provenance": [],
      "authorship_tag": "ABX9TyPj3zKD7DfkSmNpgg55k8rm",
      "include_colab_link": true
    },
    "kernelspec": {
      "name": "python3",
      "display_name": "Python 3"
    }
  },
  "cells": [
    {
      "cell_type": "markdown",
      "metadata": {
        "id": "view-in-github",
        "colab_type": "text"
      },
      "source": [
        "<a href=\"https://colab.research.google.com/github/jangalasriramd7/MachineLearning/blob/main/RandomForestClassifier_on_Coimbra_dataset.ipynb\" target=\"_parent\"><img src=\"https://colab.research.google.com/assets/colab-badge.svg\" alt=\"Open In Colab\"/></a>"
      ]
    },
    {
      "cell_type": "code",
      "metadata": {
        "id": "7KuEhVlKtEws",
        "outputId": "2e910290-5a8b-4c4a-8b6d-84ff9a327c3b",
        "colab": {
          "base_uri": "https://localhost:8080/",
          "height": 422
        }
      },
      "source": [
        "import pandas as pd\n",
        "import seaborn as sns\n",
        "import matplotlib.pyplot as plt\n",
        "%matplotlib inline\n",
        "\n",
        "sns.set(style=\"whitegrid\")\n",
        "\n",
        "df = pd.read_csv('DB_dataR2_Coimbra.csv')\n",
        "df"
      ],
      "execution_count": 3,
      "outputs": [
        {
          "output_type": "execute_result",
          "data": {
            "text/html": [
              "<div>\n",
              "<style scoped>\n",
              "    .dataframe tbody tr th:only-of-type {\n",
              "        vertical-align: middle;\n",
              "    }\n",
              "\n",
              "    .dataframe tbody tr th {\n",
              "        vertical-align: top;\n",
              "    }\n",
              "\n",
              "    .dataframe thead th {\n",
              "        text-align: right;\n",
              "    }\n",
              "</style>\n",
              "<table border=\"1\" class=\"dataframe\">\n",
              "  <thead>\n",
              "    <tr style=\"text-align: right;\">\n",
              "      <th></th>\n",
              "      <th>Age</th>\n",
              "      <th>BMI</th>\n",
              "      <th>Glucose</th>\n",
              "      <th>Insulin</th>\n",
              "      <th>HOMA</th>\n",
              "      <th>Leptin</th>\n",
              "      <th>Adiponectin</th>\n",
              "      <th>Resistin</th>\n",
              "      <th>MCP.1</th>\n",
              "      <th>Classification</th>\n",
              "    </tr>\n",
              "  </thead>\n",
              "  <tbody>\n",
              "    <tr>\n",
              "      <th>0</th>\n",
              "      <td>48</td>\n",
              "      <td>23.500000</td>\n",
              "      <td>70</td>\n",
              "      <td>2.707</td>\n",
              "      <td>0.467409</td>\n",
              "      <td>8.8071</td>\n",
              "      <td>9.702400</td>\n",
              "      <td>7.99585</td>\n",
              "      <td>417.114</td>\n",
              "      <td>1</td>\n",
              "    </tr>\n",
              "    <tr>\n",
              "      <th>1</th>\n",
              "      <td>83</td>\n",
              "      <td>20.690495</td>\n",
              "      <td>92</td>\n",
              "      <td>3.115</td>\n",
              "      <td>0.706897</td>\n",
              "      <td>8.8438</td>\n",
              "      <td>5.429285</td>\n",
              "      <td>4.06405</td>\n",
              "      <td>468.786</td>\n",
              "      <td>1</td>\n",
              "    </tr>\n",
              "    <tr>\n",
              "      <th>2</th>\n",
              "      <td>82</td>\n",
              "      <td>23.124670</td>\n",
              "      <td>91</td>\n",
              "      <td>4.498</td>\n",
              "      <td>1.009651</td>\n",
              "      <td>17.9393</td>\n",
              "      <td>22.432040</td>\n",
              "      <td>9.27715</td>\n",
              "      <td>554.697</td>\n",
              "      <td>1</td>\n",
              "    </tr>\n",
              "    <tr>\n",
              "      <th>3</th>\n",
              "      <td>68</td>\n",
              "      <td>21.367521</td>\n",
              "      <td>77</td>\n",
              "      <td>3.226</td>\n",
              "      <td>0.612725</td>\n",
              "      <td>9.8827</td>\n",
              "      <td>7.169560</td>\n",
              "      <td>12.76600</td>\n",
              "      <td>928.220</td>\n",
              "      <td>1</td>\n",
              "    </tr>\n",
              "    <tr>\n",
              "      <th>4</th>\n",
              "      <td>86</td>\n",
              "      <td>21.111111</td>\n",
              "      <td>92</td>\n",
              "      <td>3.549</td>\n",
              "      <td>0.805386</td>\n",
              "      <td>6.6994</td>\n",
              "      <td>4.819240</td>\n",
              "      <td>10.57635</td>\n",
              "      <td>773.920</td>\n",
              "      <td>1</td>\n",
              "    </tr>\n",
              "    <tr>\n",
              "      <th>...</th>\n",
              "      <td>...</td>\n",
              "      <td>...</td>\n",
              "      <td>...</td>\n",
              "      <td>...</td>\n",
              "      <td>...</td>\n",
              "      <td>...</td>\n",
              "      <td>...</td>\n",
              "      <td>...</td>\n",
              "      <td>...</td>\n",
              "      <td>...</td>\n",
              "    </tr>\n",
              "    <tr>\n",
              "      <th>111</th>\n",
              "      <td>45</td>\n",
              "      <td>26.850000</td>\n",
              "      <td>92</td>\n",
              "      <td>3.330</td>\n",
              "      <td>0.755688</td>\n",
              "      <td>54.6800</td>\n",
              "      <td>12.100000</td>\n",
              "      <td>10.96000</td>\n",
              "      <td>268.230</td>\n",
              "      <td>2</td>\n",
              "    </tr>\n",
              "    <tr>\n",
              "      <th>112</th>\n",
              "      <td>62</td>\n",
              "      <td>26.840000</td>\n",
              "      <td>100</td>\n",
              "      <td>4.530</td>\n",
              "      <td>1.117400</td>\n",
              "      <td>12.4500</td>\n",
              "      <td>21.420000</td>\n",
              "      <td>7.32000</td>\n",
              "      <td>330.160</td>\n",
              "      <td>2</td>\n",
              "    </tr>\n",
              "    <tr>\n",
              "      <th>113</th>\n",
              "      <td>65</td>\n",
              "      <td>32.050000</td>\n",
              "      <td>97</td>\n",
              "      <td>5.730</td>\n",
              "      <td>1.370998</td>\n",
              "      <td>61.4800</td>\n",
              "      <td>22.540000</td>\n",
              "      <td>10.33000</td>\n",
              "      <td>314.050</td>\n",
              "      <td>2</td>\n",
              "    </tr>\n",
              "    <tr>\n",
              "      <th>114</th>\n",
              "      <td>72</td>\n",
              "      <td>25.590000</td>\n",
              "      <td>82</td>\n",
              "      <td>2.820</td>\n",
              "      <td>0.570392</td>\n",
              "      <td>24.9600</td>\n",
              "      <td>33.750000</td>\n",
              "      <td>3.27000</td>\n",
              "      <td>392.460</td>\n",
              "      <td>2</td>\n",
              "    </tr>\n",
              "    <tr>\n",
              "      <th>115</th>\n",
              "      <td>86</td>\n",
              "      <td>27.180000</td>\n",
              "      <td>138</td>\n",
              "      <td>19.910</td>\n",
              "      <td>6.777364</td>\n",
              "      <td>90.2800</td>\n",
              "      <td>14.110000</td>\n",
              "      <td>4.35000</td>\n",
              "      <td>90.090</td>\n",
              "      <td>2</td>\n",
              "    </tr>\n",
              "  </tbody>\n",
              "</table>\n",
              "<p>116 rows × 10 columns</p>\n",
              "</div>"
            ],
            "text/plain": [
              "     Age        BMI  Glucose  ...  Resistin    MCP.1  Classification\n",
              "0     48  23.500000       70  ...   7.99585  417.114               1\n",
              "1     83  20.690495       92  ...   4.06405  468.786               1\n",
              "2     82  23.124670       91  ...   9.27715  554.697               1\n",
              "3     68  21.367521       77  ...  12.76600  928.220               1\n",
              "4     86  21.111111       92  ...  10.57635  773.920               1\n",
              "..   ...        ...      ...  ...       ...      ...             ...\n",
              "111   45  26.850000       92  ...  10.96000  268.230               2\n",
              "112   62  26.840000      100  ...   7.32000  330.160               2\n",
              "113   65  32.050000       97  ...  10.33000  314.050               2\n",
              "114   72  25.590000       82  ...   3.27000  392.460               2\n",
              "115   86  27.180000      138  ...   4.35000   90.090               2\n",
              "\n",
              "[116 rows x 10 columns]"
            ]
          },
          "metadata": {
            "tags": []
          },
          "execution_count": 3
        }
      ]
    },
    {
      "cell_type": "code",
      "metadata": {
        "id": "kXyIHToItfMG",
        "outputId": "806295fc-5322-41ed-8989-4e1e12518c4e",
        "colab": {
          "base_uri": "https://localhost:8080/"
        }
      },
      "source": [
        "df.dtypes"
      ],
      "execution_count": 4,
      "outputs": [
        {
          "output_type": "execute_result",
          "data": {
            "text/plain": [
              "Age                 int64\n",
              "BMI               float64\n",
              "Glucose             int64\n",
              "Insulin           float64\n",
              "HOMA              float64\n",
              "Leptin            float64\n",
              "Adiponectin       float64\n",
              "Resistin          float64\n",
              "MCP.1             float64\n",
              "Classification      int64\n",
              "dtype: object"
            ]
          },
          "metadata": {
            "tags": []
          },
          "execution_count": 4
        }
      ]
    },
    {
      "cell_type": "code",
      "metadata": {
        "id": "6293RBmQtmY9",
        "outputId": "27bb79ba-ac03-4ac8-f1b5-0517b893fc8c",
        "colab": {
          "base_uri": "https://localhost:8080/",
          "height": 304
        }
      },
      "source": [
        "df.describe()"
      ],
      "execution_count": 5,
      "outputs": [
        {
          "output_type": "execute_result",
          "data": {
            "text/html": [
              "<div>\n",
              "<style scoped>\n",
              "    .dataframe tbody tr th:only-of-type {\n",
              "        vertical-align: middle;\n",
              "    }\n",
              "\n",
              "    .dataframe tbody tr th {\n",
              "        vertical-align: top;\n",
              "    }\n",
              "\n",
              "    .dataframe thead th {\n",
              "        text-align: right;\n",
              "    }\n",
              "</style>\n",
              "<table border=\"1\" class=\"dataframe\">\n",
              "  <thead>\n",
              "    <tr style=\"text-align: right;\">\n",
              "      <th></th>\n",
              "      <th>Age</th>\n",
              "      <th>BMI</th>\n",
              "      <th>Glucose</th>\n",
              "      <th>Insulin</th>\n",
              "      <th>HOMA</th>\n",
              "      <th>Leptin</th>\n",
              "      <th>Adiponectin</th>\n",
              "      <th>Resistin</th>\n",
              "      <th>MCP.1</th>\n",
              "      <th>Classification</th>\n",
              "    </tr>\n",
              "  </thead>\n",
              "  <tbody>\n",
              "    <tr>\n",
              "      <th>count</th>\n",
              "      <td>116.000000</td>\n",
              "      <td>116.000000</td>\n",
              "      <td>116.000000</td>\n",
              "      <td>115.000000</td>\n",
              "      <td>116.000000</td>\n",
              "      <td>116.000000</td>\n",
              "      <td>116.000000</td>\n",
              "      <td>114.000000</td>\n",
              "      <td>116.000000</td>\n",
              "      <td>116.000000</td>\n",
              "    </tr>\n",
              "    <tr>\n",
              "      <th>mean</th>\n",
              "      <td>57.301724</td>\n",
              "      <td>27.582111</td>\n",
              "      <td>97.793103</td>\n",
              "      <td>10.049904</td>\n",
              "      <td>2.694988</td>\n",
              "      <td>26.615080</td>\n",
              "      <td>10.180874</td>\n",
              "      <td>14.734438</td>\n",
              "      <td>534.647000</td>\n",
              "      <td>1.551724</td>\n",
              "    </tr>\n",
              "    <tr>\n",
              "      <th>std</th>\n",
              "      <td>16.112766</td>\n",
              "      <td>5.020136</td>\n",
              "      <td>22.525162</td>\n",
              "      <td>10.103549</td>\n",
              "      <td>3.642043</td>\n",
              "      <td>19.183294</td>\n",
              "      <td>6.843341</td>\n",
              "      <td>12.440378</td>\n",
              "      <td>345.912663</td>\n",
              "      <td>0.499475</td>\n",
              "    </tr>\n",
              "    <tr>\n",
              "      <th>min</th>\n",
              "      <td>24.000000</td>\n",
              "      <td>18.370000</td>\n",
              "      <td>60.000000</td>\n",
              "      <td>2.432000</td>\n",
              "      <td>0.467409</td>\n",
              "      <td>4.311000</td>\n",
              "      <td>1.656020</td>\n",
              "      <td>3.210000</td>\n",
              "      <td>45.843000</td>\n",
              "      <td>1.000000</td>\n",
              "    </tr>\n",
              "    <tr>\n",
              "      <th>25%</th>\n",
              "      <td>45.000000</td>\n",
              "      <td>22.973205</td>\n",
              "      <td>85.750000</td>\n",
              "      <td>4.354500</td>\n",
              "      <td>0.917966</td>\n",
              "      <td>12.313675</td>\n",
              "      <td>5.474282</td>\n",
              "      <td>6.899263</td>\n",
              "      <td>269.978250</td>\n",
              "      <td>1.000000</td>\n",
              "    </tr>\n",
              "    <tr>\n",
              "      <th>50%</th>\n",
              "      <td>56.000000</td>\n",
              "      <td>27.662416</td>\n",
              "      <td>92.000000</td>\n",
              "      <td>6.030000</td>\n",
              "      <td>1.380939</td>\n",
              "      <td>20.271000</td>\n",
              "      <td>8.352692</td>\n",
              "      <td>10.827740</td>\n",
              "      <td>471.322500</td>\n",
              "      <td>2.000000</td>\n",
              "    </tr>\n",
              "    <tr>\n",
              "      <th>75%</th>\n",
              "      <td>71.000000</td>\n",
              "      <td>31.241442</td>\n",
              "      <td>102.000000</td>\n",
              "      <td>11.429500</td>\n",
              "      <td>2.857787</td>\n",
              "      <td>37.378300</td>\n",
              "      <td>11.815970</td>\n",
              "      <td>17.510310</td>\n",
              "      <td>700.085000</td>\n",
              "      <td>2.000000</td>\n",
              "    </tr>\n",
              "    <tr>\n",
              "      <th>max</th>\n",
              "      <td>89.000000</td>\n",
              "      <td>38.578759</td>\n",
              "      <td>201.000000</td>\n",
              "      <td>58.460000</td>\n",
              "      <td>25.050342</td>\n",
              "      <td>90.280000</td>\n",
              "      <td>38.040000</td>\n",
              "      <td>82.100000</td>\n",
              "      <td>1698.440000</td>\n",
              "      <td>2.000000</td>\n",
              "    </tr>\n",
              "  </tbody>\n",
              "</table>\n",
              "</div>"
            ],
            "text/plain": [
              "              Age         BMI  ...        MCP.1  Classification\n",
              "count  116.000000  116.000000  ...   116.000000      116.000000\n",
              "mean    57.301724   27.582111  ...   534.647000        1.551724\n",
              "std     16.112766    5.020136  ...   345.912663        0.499475\n",
              "min     24.000000   18.370000  ...    45.843000        1.000000\n",
              "25%     45.000000   22.973205  ...   269.978250        1.000000\n",
              "50%     56.000000   27.662416  ...   471.322500        2.000000\n",
              "75%     71.000000   31.241442  ...   700.085000        2.000000\n",
              "max     89.000000   38.578759  ...  1698.440000        2.000000\n",
              "\n",
              "[8 rows x 10 columns]"
            ]
          },
          "metadata": {
            "tags": []
          },
          "execution_count": 5
        }
      ]
    },
    {
      "cell_type": "code",
      "metadata": {
        "id": "pudpFQjdvTa7",
        "outputId": "401a6543-70ca-4a77-b756-9505a902ca78",
        "colab": {
          "base_uri": "https://localhost:8080/",
          "height": 363
        }
      },
      "source": [
        "df.describe().T"
      ],
      "execution_count": 6,
      "outputs": [
        {
          "output_type": "execute_result",
          "data": {
            "text/html": [
              "<div>\n",
              "<style scoped>\n",
              "    .dataframe tbody tr th:only-of-type {\n",
              "        vertical-align: middle;\n",
              "    }\n",
              "\n",
              "    .dataframe tbody tr th {\n",
              "        vertical-align: top;\n",
              "    }\n",
              "\n",
              "    .dataframe thead th {\n",
              "        text-align: right;\n",
              "    }\n",
              "</style>\n",
              "<table border=\"1\" class=\"dataframe\">\n",
              "  <thead>\n",
              "    <tr style=\"text-align: right;\">\n",
              "      <th></th>\n",
              "      <th>count</th>\n",
              "      <th>mean</th>\n",
              "      <th>std</th>\n",
              "      <th>min</th>\n",
              "      <th>25%</th>\n",
              "      <th>50%</th>\n",
              "      <th>75%</th>\n",
              "      <th>max</th>\n",
              "    </tr>\n",
              "  </thead>\n",
              "  <tbody>\n",
              "    <tr>\n",
              "      <th>Age</th>\n",
              "      <td>116.0</td>\n",
              "      <td>57.301724</td>\n",
              "      <td>16.112766</td>\n",
              "      <td>24.000000</td>\n",
              "      <td>45.000000</td>\n",
              "      <td>56.000000</td>\n",
              "      <td>71.000000</td>\n",
              "      <td>89.000000</td>\n",
              "    </tr>\n",
              "    <tr>\n",
              "      <th>BMI</th>\n",
              "      <td>116.0</td>\n",
              "      <td>27.582111</td>\n",
              "      <td>5.020136</td>\n",
              "      <td>18.370000</td>\n",
              "      <td>22.973205</td>\n",
              "      <td>27.662416</td>\n",
              "      <td>31.241442</td>\n",
              "      <td>38.578759</td>\n",
              "    </tr>\n",
              "    <tr>\n",
              "      <th>Glucose</th>\n",
              "      <td>116.0</td>\n",
              "      <td>97.793103</td>\n",
              "      <td>22.525162</td>\n",
              "      <td>60.000000</td>\n",
              "      <td>85.750000</td>\n",
              "      <td>92.000000</td>\n",
              "      <td>102.000000</td>\n",
              "      <td>201.000000</td>\n",
              "    </tr>\n",
              "    <tr>\n",
              "      <th>Insulin</th>\n",
              "      <td>115.0</td>\n",
              "      <td>10.049904</td>\n",
              "      <td>10.103549</td>\n",
              "      <td>2.432000</td>\n",
              "      <td>4.354500</td>\n",
              "      <td>6.030000</td>\n",
              "      <td>11.429500</td>\n",
              "      <td>58.460000</td>\n",
              "    </tr>\n",
              "    <tr>\n",
              "      <th>HOMA</th>\n",
              "      <td>116.0</td>\n",
              "      <td>2.694988</td>\n",
              "      <td>3.642043</td>\n",
              "      <td>0.467409</td>\n",
              "      <td>0.917966</td>\n",
              "      <td>1.380939</td>\n",
              "      <td>2.857787</td>\n",
              "      <td>25.050342</td>\n",
              "    </tr>\n",
              "    <tr>\n",
              "      <th>Leptin</th>\n",
              "      <td>116.0</td>\n",
              "      <td>26.615080</td>\n",
              "      <td>19.183294</td>\n",
              "      <td>4.311000</td>\n",
              "      <td>12.313675</td>\n",
              "      <td>20.271000</td>\n",
              "      <td>37.378300</td>\n",
              "      <td>90.280000</td>\n",
              "    </tr>\n",
              "    <tr>\n",
              "      <th>Adiponectin</th>\n",
              "      <td>116.0</td>\n",
              "      <td>10.180874</td>\n",
              "      <td>6.843341</td>\n",
              "      <td>1.656020</td>\n",
              "      <td>5.474282</td>\n",
              "      <td>8.352692</td>\n",
              "      <td>11.815970</td>\n",
              "      <td>38.040000</td>\n",
              "    </tr>\n",
              "    <tr>\n",
              "      <th>Resistin</th>\n",
              "      <td>114.0</td>\n",
              "      <td>14.734438</td>\n",
              "      <td>12.440378</td>\n",
              "      <td>3.210000</td>\n",
              "      <td>6.899263</td>\n",
              "      <td>10.827740</td>\n",
              "      <td>17.510310</td>\n",
              "      <td>82.100000</td>\n",
              "    </tr>\n",
              "    <tr>\n",
              "      <th>MCP.1</th>\n",
              "      <td>116.0</td>\n",
              "      <td>534.647000</td>\n",
              "      <td>345.912663</td>\n",
              "      <td>45.843000</td>\n",
              "      <td>269.978250</td>\n",
              "      <td>471.322500</td>\n",
              "      <td>700.085000</td>\n",
              "      <td>1698.440000</td>\n",
              "    </tr>\n",
              "    <tr>\n",
              "      <th>Classification</th>\n",
              "      <td>116.0</td>\n",
              "      <td>1.551724</td>\n",
              "      <td>0.499475</td>\n",
              "      <td>1.000000</td>\n",
              "      <td>1.000000</td>\n",
              "      <td>2.000000</td>\n",
              "      <td>2.000000</td>\n",
              "      <td>2.000000</td>\n",
              "    </tr>\n",
              "  </tbody>\n",
              "</table>\n",
              "</div>"
            ],
            "text/plain": [
              "                count        mean  ...         75%          max\n",
              "Age             116.0   57.301724  ...   71.000000    89.000000\n",
              "BMI             116.0   27.582111  ...   31.241442    38.578759\n",
              "Glucose         116.0   97.793103  ...  102.000000   201.000000\n",
              "Insulin         115.0   10.049904  ...   11.429500    58.460000\n",
              "HOMA            116.0    2.694988  ...    2.857787    25.050342\n",
              "Leptin          116.0   26.615080  ...   37.378300    90.280000\n",
              "Adiponectin     116.0   10.180874  ...   11.815970    38.040000\n",
              "Resistin        114.0   14.734438  ...   17.510310    82.100000\n",
              "MCP.1           116.0  534.647000  ...  700.085000  1698.440000\n",
              "Classification  116.0    1.551724  ...    2.000000     2.000000\n",
              "\n",
              "[10 rows x 8 columns]"
            ]
          },
          "metadata": {
            "tags": []
          },
          "execution_count": 6
        }
      ]
    },
    {
      "cell_type": "code",
      "metadata": {
        "id": "6ph1SsDOGO_N",
        "outputId": "c53170b3-82aa-4ee6-9f25-88794df72eb6",
        "colab": {
          "base_uri": "https://localhost:8080/",
          "height": 304
        }
      },
      "source": [
        "df.describe(include='all')"
      ],
      "execution_count": 7,
      "outputs": [
        {
          "output_type": "execute_result",
          "data": {
            "text/html": [
              "<div>\n",
              "<style scoped>\n",
              "    .dataframe tbody tr th:only-of-type {\n",
              "        vertical-align: middle;\n",
              "    }\n",
              "\n",
              "    .dataframe tbody tr th {\n",
              "        vertical-align: top;\n",
              "    }\n",
              "\n",
              "    .dataframe thead th {\n",
              "        text-align: right;\n",
              "    }\n",
              "</style>\n",
              "<table border=\"1\" class=\"dataframe\">\n",
              "  <thead>\n",
              "    <tr style=\"text-align: right;\">\n",
              "      <th></th>\n",
              "      <th>Age</th>\n",
              "      <th>BMI</th>\n",
              "      <th>Glucose</th>\n",
              "      <th>Insulin</th>\n",
              "      <th>HOMA</th>\n",
              "      <th>Leptin</th>\n",
              "      <th>Adiponectin</th>\n",
              "      <th>Resistin</th>\n",
              "      <th>MCP.1</th>\n",
              "      <th>Classification</th>\n",
              "    </tr>\n",
              "  </thead>\n",
              "  <tbody>\n",
              "    <tr>\n",
              "      <th>count</th>\n",
              "      <td>116.000000</td>\n",
              "      <td>116.000000</td>\n",
              "      <td>116.000000</td>\n",
              "      <td>115.000000</td>\n",
              "      <td>116.000000</td>\n",
              "      <td>116.000000</td>\n",
              "      <td>116.000000</td>\n",
              "      <td>114.000000</td>\n",
              "      <td>116.000000</td>\n",
              "      <td>116.000000</td>\n",
              "    </tr>\n",
              "    <tr>\n",
              "      <th>mean</th>\n",
              "      <td>57.301724</td>\n",
              "      <td>27.582111</td>\n",
              "      <td>97.793103</td>\n",
              "      <td>10.049904</td>\n",
              "      <td>2.694988</td>\n",
              "      <td>26.615080</td>\n",
              "      <td>10.180874</td>\n",
              "      <td>14.734438</td>\n",
              "      <td>534.647000</td>\n",
              "      <td>1.551724</td>\n",
              "    </tr>\n",
              "    <tr>\n",
              "      <th>std</th>\n",
              "      <td>16.112766</td>\n",
              "      <td>5.020136</td>\n",
              "      <td>22.525162</td>\n",
              "      <td>10.103549</td>\n",
              "      <td>3.642043</td>\n",
              "      <td>19.183294</td>\n",
              "      <td>6.843341</td>\n",
              "      <td>12.440378</td>\n",
              "      <td>345.912663</td>\n",
              "      <td>0.499475</td>\n",
              "    </tr>\n",
              "    <tr>\n",
              "      <th>min</th>\n",
              "      <td>24.000000</td>\n",
              "      <td>18.370000</td>\n",
              "      <td>60.000000</td>\n",
              "      <td>2.432000</td>\n",
              "      <td>0.467409</td>\n",
              "      <td>4.311000</td>\n",
              "      <td>1.656020</td>\n",
              "      <td>3.210000</td>\n",
              "      <td>45.843000</td>\n",
              "      <td>1.000000</td>\n",
              "    </tr>\n",
              "    <tr>\n",
              "      <th>25%</th>\n",
              "      <td>45.000000</td>\n",
              "      <td>22.973205</td>\n",
              "      <td>85.750000</td>\n",
              "      <td>4.354500</td>\n",
              "      <td>0.917966</td>\n",
              "      <td>12.313675</td>\n",
              "      <td>5.474282</td>\n",
              "      <td>6.899263</td>\n",
              "      <td>269.978250</td>\n",
              "      <td>1.000000</td>\n",
              "    </tr>\n",
              "    <tr>\n",
              "      <th>50%</th>\n",
              "      <td>56.000000</td>\n",
              "      <td>27.662416</td>\n",
              "      <td>92.000000</td>\n",
              "      <td>6.030000</td>\n",
              "      <td>1.380939</td>\n",
              "      <td>20.271000</td>\n",
              "      <td>8.352692</td>\n",
              "      <td>10.827740</td>\n",
              "      <td>471.322500</td>\n",
              "      <td>2.000000</td>\n",
              "    </tr>\n",
              "    <tr>\n",
              "      <th>75%</th>\n",
              "      <td>71.000000</td>\n",
              "      <td>31.241442</td>\n",
              "      <td>102.000000</td>\n",
              "      <td>11.429500</td>\n",
              "      <td>2.857787</td>\n",
              "      <td>37.378300</td>\n",
              "      <td>11.815970</td>\n",
              "      <td>17.510310</td>\n",
              "      <td>700.085000</td>\n",
              "      <td>2.000000</td>\n",
              "    </tr>\n",
              "    <tr>\n",
              "      <th>max</th>\n",
              "      <td>89.000000</td>\n",
              "      <td>38.578759</td>\n",
              "      <td>201.000000</td>\n",
              "      <td>58.460000</td>\n",
              "      <td>25.050342</td>\n",
              "      <td>90.280000</td>\n",
              "      <td>38.040000</td>\n",
              "      <td>82.100000</td>\n",
              "      <td>1698.440000</td>\n",
              "      <td>2.000000</td>\n",
              "    </tr>\n",
              "  </tbody>\n",
              "</table>\n",
              "</div>"
            ],
            "text/plain": [
              "              Age         BMI  ...        MCP.1  Classification\n",
              "count  116.000000  116.000000  ...   116.000000      116.000000\n",
              "mean    57.301724   27.582111  ...   534.647000        1.551724\n",
              "std     16.112766    5.020136  ...   345.912663        0.499475\n",
              "min     24.000000   18.370000  ...    45.843000        1.000000\n",
              "25%     45.000000   22.973205  ...   269.978250        1.000000\n",
              "50%     56.000000   27.662416  ...   471.322500        2.000000\n",
              "75%     71.000000   31.241442  ...   700.085000        2.000000\n",
              "max     89.000000   38.578759  ...  1698.440000        2.000000\n",
              "\n",
              "[8 rows x 10 columns]"
            ]
          },
          "metadata": {
            "tags": []
          },
          "execution_count": 7
        }
      ]
    },
    {
      "cell_type": "code",
      "metadata": {
        "id": "V7fwiXnrGTJu"
      },
      "source": [
        "X = df.drop(['Classification'], axis=1)\n",
        "\n",
        "y = df['Classification']"
      ],
      "execution_count": 75,
      "outputs": []
    },
    {
      "cell_type": "code",
      "metadata": {
        "id": "-GAbzRDoHnyG"
      },
      "source": [
        "from sklearn.model_selection import train_test_split\n",
        "\n",
        "X_train, X_test, y_train, y_test = train_test_split(X, y, test_size = 0.3, random_state = 0)"
      ],
      "execution_count": 76,
      "outputs": []
    },
    {
      "cell_type": "code",
      "metadata": {
        "id": "h2qbeMl-Hrtl",
        "outputId": "4b8e0f56-37a3-4d53-84c2-30768547cdf5",
        "colab": {
          "base_uri": "https://localhost:8080/"
        }
      },
      "source": [
        "# check the shape of X_train and X_test\n",
        "\n",
        "X_train.shape, X_test.shape"
      ],
      "execution_count": 77,
      "outputs": [
        {
          "output_type": "execute_result",
          "data": {
            "text/plain": [
              "((79, 9), (34, 9))"
            ]
          },
          "metadata": {
            "tags": []
          },
          "execution_count": 77
        }
      ]
    },
    {
      "cell_type": "code",
      "metadata": {
        "id": "96npaZmkIPFT",
        "outputId": "1979c211-7a96-4d10-e3ec-b04e9378081f",
        "colab": {
          "base_uri": "https://localhost:8080/"
        }
      },
      "source": [
        "categorical = [col for col in X_train.columns if X_train[col].dtypes == 'O']\n",
        "\n",
        "categorical"
      ],
      "execution_count": 78,
      "outputs": [
        {
          "output_type": "execute_result",
          "data": {
            "text/plain": [
              "[]"
            ]
          },
          "metadata": {
            "tags": []
          },
          "execution_count": 78
        }
      ]
    },
    {
      "cell_type": "code",
      "metadata": {
        "id": "86V9rhPcIcgC",
        "outputId": "147e599b-34f2-42ec-e9e0-5f79f433649d",
        "colab": {
          "base_uri": "https://localhost:8080/"
        }
      },
      "source": [
        "numerical = [col for col in X_train.columns if X_train[col].dtypes != 'O']\n",
        "\n",
        "numerical"
      ],
      "execution_count": 79,
      "outputs": [
        {
          "output_type": "execute_result",
          "data": {
            "text/plain": [
              "['Age',\n",
              " 'BMI',\n",
              " 'Glucose',\n",
              " 'Insulin',\n",
              " 'HOMA',\n",
              " 'Leptin',\n",
              " 'Adiponectin',\n",
              " 'Resistin',\n",
              " 'MCP.1']"
            ]
          },
          "metadata": {
            "tags": []
          },
          "execution_count": 79
        }
      ]
    },
    {
      "cell_type": "code",
      "metadata": {
        "id": "bPT_N1ibIfcX",
        "outputId": "c07256db-4f8a-4e72-fa0f-c23c0cccb32d",
        "colab": {
          "base_uri": "https://localhost:8080/"
        }
      },
      "source": [
        "# print percentage of missing values in the categorical variables in training set\n",
        "\n",
        "X_train[categorical].isnull().mean()"
      ],
      "execution_count": 82,
      "outputs": [
        {
          "output_type": "execute_result",
          "data": {
            "text/plain": [
              "Series([], dtype: float64)"
            ]
          },
          "metadata": {
            "tags": []
          },
          "execution_count": 82
        }
      ]
    },
    {
      "cell_type": "code",
      "metadata": {
        "id": "Xm_fehaVIh0H",
        "outputId": "4b90d897-5ebd-4c51-9a5b-73483d5d2827",
        "colab": {
          "base_uri": "https://localhost:8080/"
        }
      },
      "source": [
        "# check missing values in categorical variables in X_train\n",
        "\n",
        "X_train[categorical].isnull().sum()"
      ],
      "execution_count": 83,
      "outputs": [
        {
          "output_type": "execute_result",
          "data": {
            "text/plain": [
              "Series([], dtype: float64)"
            ]
          },
          "metadata": {
            "tags": []
          },
          "execution_count": 83
        }
      ]
    },
    {
      "cell_type": "code",
      "metadata": {
        "id": "Z-w4QkftInxW",
        "outputId": "a0d807e9-c75c-49f3-ede8-2bf1b28b583a",
        "colab": {
          "base_uri": "https://localhost:8080/"
        }
      },
      "source": [
        "# check missing values in categorical variables in X_test\n",
        "\n",
        "X_test[categorical].isnull().sum()\n"
      ],
      "execution_count": 84,
      "outputs": [
        {
          "output_type": "execute_result",
          "data": {
            "text/plain": [
              "Series([], dtype: float64)"
            ]
          },
          "metadata": {
            "tags": []
          },
          "execution_count": 84
        }
      ]
    },
    {
      "cell_type": "code",
      "metadata": {
        "id": "BLGgQ-yGI83U",
        "outputId": "b0c39a35-378b-4d64-9c46-fcdebfc0c2f2",
        "colab": {
          "base_uri": "https://localhost:8080/"
        }
      },
      "source": [
        "# import Random Forest classifier\n",
        "\n",
        "from sklearn.ensemble import RandomForestClassifier\n",
        "\n",
        "# instantiate the classifier \n",
        "\n",
        "rfc = RandomForestClassifier(random_state=0)\n",
        "\n",
        "# fit the model\n",
        "\n",
        "rfc.fit(X_train, y_train)\n",
        "\n",
        "# Predict the Test set results\n",
        "\n",
        "y_pred = rfc.predict(X_test)\n",
        "\n",
        "# Check accuracy score \n",
        "\n",
        "from sklearn.metrics import accuracy_score\n",
        "\n",
        "print('Model accuracy score with 10 decision-trees : {0:0.4f}'. format(accuracy_score(y_test, y_pred)))"
      ],
      "execution_count": 85,
      "outputs": [
        {
          "output_type": "stream",
          "text": [
            "Model accuracy score with 10 decision-trees : 0.7941\n"
          ],
          "name": "stdout"
        }
      ]
    },
    {
      "cell_type": "code",
      "metadata": {
        "id": "zElH6BVzJvfN",
        "outputId": "5f5965a7-4dc9-4716-8c66-df33d030e39c",
        "colab": {
          "base_uri": "https://localhost:8080/"
        }
      },
      "source": [
        "# instantiate the classifier with n_estimators = 100\n",
        "\n",
        "rfc_100 = RandomForestClassifier(n_estimators=100, random_state=0)\n",
        "\n",
        "# fit the model to the training set\n",
        "\n",
        "rfc_100.fit(X_train, y_train)\n",
        "\n",
        "# Predict on the test set results\n",
        "\n",
        "y_pred_100 = rfc_100.predict(X_test)\n",
        "\n",
        "# Check accuracy score \n",
        "\n",
        "print('Model accuracy score with 100 decision-trees : {0:0.4f}'. format(accuracy_score(y_test, y_pred_100)))"
      ],
      "execution_count": 86,
      "outputs": [
        {
          "output_type": "stream",
          "text": [
            "Model accuracy score with 100 decision-trees : 0.7941\n"
          ],
          "name": "stdout"
        }
      ]
    },
    {
      "cell_type": "code",
      "metadata": {
        "id": "xWFmzIPKMRgb",
        "outputId": "a396e63e-d6e1-46df-d791-cb29733161b8",
        "colab": {
          "base_uri": "https://localhost:8080/"
        }
      },
      "source": [
        "# create the classifier with n_estimators = 100\n",
        "\n",
        "clf = RandomForestClassifier(n_estimators=100, random_state=0)\n",
        "\n",
        "\n",
        "\n",
        "# fit the model to the training set\n",
        "\n",
        "clf.fit(X_train, y_train)"
      ],
      "execution_count": 87,
      "outputs": [
        {
          "output_type": "execute_result",
          "data": {
            "text/plain": [
              "RandomForestClassifier(bootstrap=True, ccp_alpha=0.0, class_weight=None,\n",
              "                       criterion='gini', max_depth=None, max_features='auto',\n",
              "                       max_leaf_nodes=None, max_samples=None,\n",
              "                       min_impurity_decrease=0.0, min_impurity_split=None,\n",
              "                       min_samples_leaf=1, min_samples_split=2,\n",
              "                       min_weight_fraction_leaf=0.0, n_estimators=100,\n",
              "                       n_jobs=None, oob_score=False, random_state=0, verbose=0,\n",
              "                       warm_start=False)"
            ]
          },
          "metadata": {
            "tags": []
          },
          "execution_count": 87
        }
      ]
    },
    {
      "cell_type": "code",
      "metadata": {
        "id": "uvASil8nMWCw",
        "outputId": "011cd695-1aac-4c19-e047-53f17b797f18",
        "colab": {
          "base_uri": "https://localhost:8080/"
        }
      },
      "source": [
        "# view the feature scores\n",
        "\n",
        "feature_scores = pd.Series(clf.feature_importances_, index=X_train.columns).sort_values(ascending=False)\n",
        "\n",
        "feature_scores"
      ],
      "execution_count": 88,
      "outputs": [
        {
          "output_type": "execute_result",
          "data": {
            "text/plain": [
              "Glucose        0.205838\n",
              "BMI            0.138492\n",
              "Age            0.137596\n",
              "Resistin       0.111461\n",
              "Adiponectin    0.110763\n",
              "HOMA           0.104757\n",
              "Leptin         0.065451\n",
              "Insulin        0.065079\n",
              "MCP.1          0.060563\n",
              "dtype: float64"
            ]
          },
          "metadata": {
            "tags": []
          },
          "execution_count": 88
        }
      ]
    },
    {
      "cell_type": "code",
      "metadata": {
        "id": "Aj7ixzxKMZ8c"
      },
      "source": [
        "# drop the least important feature from X_train and X_test\n",
        "\n",
        "X_train = X_train.drop(['HOMA'], axis=1)\n",
        "\n",
        "X_test = X_test.drop(['HOMA'], axis=1)"
      ],
      "execution_count": 101,
      "outputs": []
    },
    {
      "cell_type": "code",
      "metadata": {
        "id": "j1opjUjNMdVL",
        "outputId": "19c4627c-26f0-487b-acca-d1e1c87f2c20",
        "colab": {
          "base_uri": "https://localhost:8080/"
        }
      },
      "source": [
        "clf = RandomForestClassifier(n_estimators=100, random_state=0)\n",
        "\n",
        "\n",
        "\n",
        "# fit the model to the training set\n",
        "\n",
        "clf.fit(X_train, y_train)\n",
        "\n",
        "\n",
        "# Predict on the test set results\n",
        "\n",
        "y_pred = clf.predict(X_test)\n",
        "\n",
        "\n",
        "\n",
        "# Check accuracy score \n",
        "\n",
        "print('Model accuracy score with HOMA variable removed : {0:0.4f}'. format(accuracy_score(y_test, y_pred)))"
      ],
      "execution_count": 102,
      "outputs": [
        {
          "output_type": "stream",
          "text": [
            "Model accuracy score with BMI variable removed : 0.4118\n"
          ],
          "name": "stdout"
        }
      ]
    },
    {
      "cell_type": "code",
      "metadata": {
        "id": "5lNB_jQGNr5V",
        "outputId": "28beb1ee-9f6c-4215-c2f2-34e51617aee5",
        "colab": {
          "base_uri": "https://localhost:8080/"
        }
      },
      "source": [
        "# Print the Confusion Matrix and slice it into four pieces\n",
        "\n",
        "from sklearn.metrics import confusion_matrix\n",
        "\n",
        "cm = confusion_matrix(y_test, y_pred)\n",
        "\n",
        "print('Confusion matrix\\n\\n', cm)"
      ],
      "execution_count": 103,
      "outputs": [
        {
          "output_type": "stream",
          "text": [
            "Confusion matrix\n",
            "\n",
            " [[ 5 10]\n",
            " [10  9]]\n"
          ],
          "name": "stdout"
        }
      ]
    },
    {
      "cell_type": "code",
      "metadata": {
        "id": "iblr_QiYOTap",
        "outputId": "30b5dc76-c46b-4b60-8992-181cfc58ccc6",
        "colab": {
          "base_uri": "https://localhost:8080/",
          "height": 313
        }
      },
      "source": [
        "# visualize confusion matrix with seaborn heatmap\n",
        "\n",
        "cm_matrix = pd.DataFrame(data=cm, columns=['Actual Positive:1', 'Actual Negative:0'], \n",
        "                                 index=['Predict Positive:1', 'Predict Negative:0'])\n",
        "\n",
        "sns.heatmap(cm_matrix, annot=True, fmt='d', cmap='YlGnBu')"
      ],
      "execution_count": 104,
      "outputs": [
        {
          "output_type": "execute_result",
          "data": {
            "text/plain": [
              "<matplotlib.axes._subplots.AxesSubplot at 0x7fd8f551f358>"
            ]
          },
          "metadata": {
            "tags": []
          },
          "execution_count": 104
        },
        {
          "output_type": "display_data",
          "data": {
            "image/png": "[encoded data removed]",
            "text/plain": [
              "<Figure size 432x288 with 2 Axes>"
            ]
          },
          "metadata": {
            "tags": []
          }
        }
      ]
    },
    {
      "cell_type": "code",
      "metadata": {
        "id": "WJjLjbWpOWso",
        "outputId": "15f19b98-bd88-4e79-e284-296d2ab8c990",
        "colab": {
          "base_uri": "https://localhost:8080/"
        }
      },
      "source": [
        "from sklearn.metrics import classification_report\n",
        "\n",
        "print(classification_report(y_test, y_pred))"
      ],
      "execution_count": 105,
      "outputs": [
        {
          "output_type": "stream",
          "text": [
            "              precision    recall  f1-score   support\n",
            "\n",
            "           1       0.33      0.33      0.33        15\n",
            "           2       0.47      0.47      0.47        19\n",
            "\n",
            "    accuracy                           0.41        34\n",
            "   macro avg       0.40      0.40      0.40        34\n",
            "weighted avg       0.41      0.41      0.41        34\n",
            "\n"
          ],
          "name": "stdout"
        }
      ]
    },
    {
      "cell_type": "code",
      "metadata": {
        "id": "7lJqD-yzOf85"
      },
      "source": [
        ""
      ],
      "execution_count": null,
      "outputs": []
    }
  ]
}