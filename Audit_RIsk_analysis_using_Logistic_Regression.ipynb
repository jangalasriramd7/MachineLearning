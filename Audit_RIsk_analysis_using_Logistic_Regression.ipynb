{
  "nbformat": 4,
  "nbformat_minor": 0,
  "metadata": {
    "colab": {
      "name": "Audit_RIsk analysis using Logistic Regression ",
      "provenance": [],
      "authorship_tag": "ABX9TyN85KCDGgpVClnRT/nFi8BM",
      "include_colab_link": true
    },
    "kernelspec": {
      "name": "python3",
      "display_name": "Python 3"
    }
  },
  "cells": [
    {
      "cell_type": "markdown",
      "metadata": {
        "id": "view-in-github",
        "colab_type": "text"
      },
      "source": [
        "<a href=\"https://colab.research.google.com/github/jangalasriramd7/MachineLearning/blob/main/Audit_RIsk_analysis_using_Logistic_Regression.ipynb\" target=\"_parent\"><img src=\"https://colab.research.google.com/assets/colab-badge.svg\" alt=\"Open In Colab\"/></a>"
      ]
    },
    {
      "cell_type": "code",
      "metadata": {
        "id": "z8hk_w3Lmlvh"
      },
      "source": [
        "import numpy as np # linear algebra\n",
        "import pandas as pd # data processing, CSV file I/O (e.g. pd.read_csv)\n",
        "import matplotlib.pyplot as plt # data visualization\n",
        "import seaborn as sns # statistical data visualization\n",
        "%matplotlib inline\n"
      ],
      "execution_count": null,
      "outputs": []
    },
    {
      "cell_type": "code",
      "metadata": {
        "id": "3eq1YaHLozzk"
      },
      "source": [
        "df = pd.read_csv('DB_audit_risk.csv')"
      ],
      "execution_count": null,
      "outputs": []
    },
    {
      "cell_type": "code",
      "metadata": {
        "id": "iGReNrJJpBvP",
        "outputId": "05c782f7-ba98-4a95-d36d-6da400ec75d5",
        "colab": {
          "base_uri": "https://localhost:8080/"
        }
      },
      "source": [
        "print(df.shape)\n",
        "print(df.head())"
      ],
      "execution_count": null,
      "outputs": [
        {
          "output_type": "stream",
          "text": [
            "(776, 27)\n",
            "   Sector_score LOCATION_ID  PARA_A  ...  Detection_Risk  Audit_Risk  Risk\n",
            "0          3.89          23    4.18  ...             0.5      1.7148     1\n",
            "1          3.89           6    0.00  ...             0.5      0.5108     0\n",
            "2          3.89           6    0.51  ...             0.5      0.3096     0\n",
            "3          3.89           6    0.00  ...             0.5      3.5060     1\n",
            "4          3.89           6    0.00  ...             0.5      0.2832     0\n",
            "\n",
            "[5 rows x 27 columns]\n"
          ],
          "name": "stdout"
        }
      ]
    },
    {
      "cell_type": "code",
      "metadata": {
        "id": "jSeU-m7jpC9x",
        "outputId": "5587fc06-e83b-4b7c-9d8b-07012e91748f",
        "colab": {
          "base_uri": "https://localhost:8080/"
        }
      },
      "source": [
        "col_names = df.columns\n",
        "\n",
        "col_names"
      ],
      "execution_count": null,
      "outputs": [
        {
          "output_type": "execute_result",
          "data": {
            "text/plain": [
              "Index(['Sector_score', 'LOCATION_ID', 'PARA_A', 'Score_A', 'Risk_A', 'PARA_B',\n",
              "       'Score_B', 'Risk_B', 'TOTAL', 'numbers', 'Score_B.1', 'Risk_C',\n",
              "       'Money_Value', 'Score_MV', 'Risk_D', 'District_Loss', 'PROB', 'RiSk_E',\n",
              "       'History', 'Prob', 'Risk_F', 'Score', 'Inherent_Risk', 'CONTROL_RISK',\n",
              "       'Detection_Risk', 'Audit_Risk', 'Risk'],\n",
              "      dtype='object')"
            ]
          },
          "metadata": {
            "tags": []
          },
          "execution_count": 106
        }
      ]
    },
    {
      "cell_type": "code",
      "metadata": {
        "id": "DxPbLeZEpSIF",
        "outputId": "094c1896-0bb6-489a-95ad-7673f96a77e9",
        "colab": {
          "base_uri": "https://localhost:8080/",
          "height": 246
        }
      },
      "source": [
        "categorical = [var for var in df.columns if df[var].dtype=='O']\n",
        "\n",
        "print('There are {} categorical variables\\n'.format(len(categorical)))\n",
        "\n",
        "print('The categorical variables are :', categorical)\n",
        "df[categorical].head()  # view the categorical variable"
      ],
      "execution_count": null,
      "outputs": [
        {
          "output_type": "stream",
          "text": [
            "There are 1 categorical variables\n",
            "\n",
            "The categorical variables are : ['LOCATION_ID']\n"
          ],
          "name": "stdout"
        },
        {
          "output_type": "execute_result",
          "data": {
            "text/html": [
              "<div>\n",
              "<style scoped>\n",
              "    .dataframe tbody tr th:only-of-type {\n",
              "        vertical-align: middle;\n",
              "    }\n",
              "\n",
              "    .dataframe tbody tr th {\n",
              "        vertical-align: top;\n",
              "    }\n",
              "\n",
              "    .dataframe thead th {\n",
              "        text-align: right;\n",
              "    }\n",
              "</style>\n",
              "<table border=\"1\" class=\"dataframe\">\n",
              "  <thead>\n",
              "    <tr style=\"text-align: right;\">\n",
              "      <th></th>\n",
              "      <th>LOCATION_ID</th>\n",
              "    </tr>\n",
              "  </thead>\n",
              "  <tbody>\n",
              "    <tr>\n",
              "      <th>0</th>\n",
              "      <td>23</td>\n",
              "    </tr>\n",
              "    <tr>\n",
              "      <th>1</th>\n",
              "      <td>6</td>\n",
              "    </tr>\n",
              "    <tr>\n",
              "      <th>2</th>\n",
              "      <td>6</td>\n",
              "    </tr>\n",
              "    <tr>\n",
              "      <th>3</th>\n",
              "      <td>6</td>\n",
              "    </tr>\n",
              "    <tr>\n",
              "      <th>4</th>\n",
              "      <td>6</td>\n",
              "    </tr>\n",
              "  </tbody>\n",
              "</table>\n",
              "</div>"
            ],
            "text/plain": [
              "  LOCATION_ID\n",
              "0          23\n",
              "1           6\n",
              "2           6\n",
              "3           6\n",
              "4           6"
            ]
          },
          "metadata": {
            "tags": []
          },
          "execution_count": 107
        }
      ]
    },
    {
      "cell_type": "code",
      "metadata": {
        "id": "ew2VJoE_pZ7K",
        "outputId": "9d0162ec-e654-4b5d-ce4d-70ee0f21613f",
        "colab": {
          "base_uri": "https://localhost:8080/"
        }
      },
      "source": [
        "# check missing values in categorical variables\n",
        "\n",
        "df[categorical].isnull().sum()"
      ],
      "execution_count": null,
      "outputs": [
        {
          "output_type": "execute_result",
          "data": {
            "text/plain": [
              "LOCATION_ID    0\n",
              "dtype: int64"
            ]
          },
          "metadata": {
            "tags": []
          },
          "execution_count": 108
        }
      ]
    },
    {
      "cell_type": "code",
      "metadata": {
        "id": "MIQ6CbunptPX",
        "outputId": "fe335f12-7889-4d87-9352-3350fae610c1",
        "colab": {
          "base_uri": "https://localhost:8080/"
        }
      },
      "source": [
        "\n",
        "cat1 = [var for var in categorical if df[var].isnull().sum()!=0]\n",
        "\n",
        "print(df[cat1].isnull().sum())"
      ],
      "execution_count": null,
      "outputs": [
        {
          "output_type": "stream",
          "text": [
            "Series([], dtype: float64)\n"
          ],
          "name": "stdout"
        }
      ]
    },
    {
      "cell_type": "code",
      "metadata": {
        "id": "7v6vcDc5p9eP",
        "outputId": "cfe62ebb-b1cd-4128-f2fb-161d8f53527e",
        "colab": {
          "base_uri": "https://localhost:8080/"
        }
      },
      "source": [
        "# find numerical variables\n",
        "\n",
        "numerical = [var for var in df.columns if df[var].dtype!='O']\n",
        "\n",
        "print('There are {} numerical variables\\n'.format(len(numerical)))\n",
        "\n",
        "print('The numerical variables are :', numerical)"
      ],
      "execution_count": null,
      "outputs": [
        {
          "output_type": "stream",
          "text": [
            "There are 26 numerical variables\n",
            "\n",
            "The numerical variables are : ['Sector_score', 'PARA_A', 'Score_A', 'Risk_A', 'PARA_B', 'Score_B', 'Risk_B', 'TOTAL', 'numbers', 'Score_B.1', 'Risk_C', 'Money_Value', 'Score_MV', 'Risk_D', 'District_Loss', 'PROB', 'RiSk_E', 'History', 'Prob', 'Risk_F', 'Score', 'Inherent_Risk', 'CONTROL_RISK', 'Detection_Risk', 'Audit_Risk', 'Risk']\n"
          ],
          "name": "stdout"
        }
      ]
    },
    {
      "cell_type": "code",
      "metadata": {
        "id": "8KtNtu2cqtn3",
        "outputId": "b86c53f9-a75b-4e20-e480-18f63264849a",
        "colab": {
          "base_uri": "https://localhost:8080/",
          "height": 215
        }
      },
      "source": [
        "# view the numerical variables\n",
        "\n",
        "df[numerical].head()"
      ],
      "execution_count": null,
      "outputs": [
        {
          "output_type": "execute_result",
          "data": {
            "text/html": [
              "<div>\n",
              "<style scoped>\n",
              "    .dataframe tbody tr th:only-of-type {\n",
              "        vertical-align: middle;\n",
              "    }\n",
              "\n",
              "    .dataframe tbody tr th {\n",
              "        vertical-align: top;\n",
              "    }\n",
              "\n",
              "    .dataframe thead th {\n",
              "        text-align: right;\n",
              "    }\n",
              "</style>\n",
              "<table border=\"1\" class=\"dataframe\">\n",
              "  <thead>\n",
              "    <tr style=\"text-align: right;\">\n",
              "      <th></th>\n",
              "      <th>Sector_score</th>\n",
              "      <th>PARA_A</th>\n",
              "      <th>Score_A</th>\n",
              "      <th>Risk_A</th>\n",
              "      <th>PARA_B</th>\n",
              "      <th>Score_B</th>\n",
              "      <th>Risk_B</th>\n",
              "      <th>TOTAL</th>\n",
              "      <th>numbers</th>\n",
              "      <th>Score_B.1</th>\n",
              "      <th>Risk_C</th>\n",
              "      <th>Money_Value</th>\n",
              "      <th>Score_MV</th>\n",
              "      <th>Risk_D</th>\n",
              "      <th>District_Loss</th>\n",
              "      <th>PROB</th>\n",
              "      <th>RiSk_E</th>\n",
              "      <th>History</th>\n",
              "      <th>Prob</th>\n",
              "      <th>Risk_F</th>\n",
              "      <th>Score</th>\n",
              "      <th>Inherent_Risk</th>\n",
              "      <th>CONTROL_RISK</th>\n",
              "      <th>Detection_Risk</th>\n",
              "      <th>Audit_Risk</th>\n",
              "      <th>Risk</th>\n",
              "    </tr>\n",
              "  </thead>\n",
              "  <tbody>\n",
              "    <tr>\n",
              "      <th>0</th>\n",
              "      <td>3.89</td>\n",
              "      <td>4.18</td>\n",
              "      <td>0.6</td>\n",
              "      <td>2.508</td>\n",
              "      <td>2.50</td>\n",
              "      <td>0.2</td>\n",
              "      <td>0.500</td>\n",
              "      <td>6.68</td>\n",
              "      <td>5.0</td>\n",
              "      <td>0.2</td>\n",
              "      <td>1.0</td>\n",
              "      <td>3.38</td>\n",
              "      <td>0.2</td>\n",
              "      <td>0.676</td>\n",
              "      <td>2</td>\n",
              "      <td>0.2</td>\n",
              "      <td>0.4</td>\n",
              "      <td>0</td>\n",
              "      <td>0.2</td>\n",
              "      <td>0.0</td>\n",
              "      <td>2.4</td>\n",
              "      <td>8.574</td>\n",
              "      <td>0.4</td>\n",
              "      <td>0.5</td>\n",
              "      <td>1.7148</td>\n",
              "      <td>1</td>\n",
              "    </tr>\n",
              "    <tr>\n",
              "      <th>1</th>\n",
              "      <td>3.89</td>\n",
              "      <td>0.00</td>\n",
              "      <td>0.2</td>\n",
              "      <td>0.000</td>\n",
              "      <td>4.83</td>\n",
              "      <td>0.2</td>\n",
              "      <td>0.966</td>\n",
              "      <td>4.83</td>\n",
              "      <td>5.0</td>\n",
              "      <td>0.2</td>\n",
              "      <td>1.0</td>\n",
              "      <td>0.94</td>\n",
              "      <td>0.2</td>\n",
              "      <td>0.188</td>\n",
              "      <td>2</td>\n",
              "      <td>0.2</td>\n",
              "      <td>0.4</td>\n",
              "      <td>0</td>\n",
              "      <td>0.2</td>\n",
              "      <td>0.0</td>\n",
              "      <td>2.0</td>\n",
              "      <td>2.554</td>\n",
              "      <td>0.4</td>\n",
              "      <td>0.5</td>\n",
              "      <td>0.5108</td>\n",
              "      <td>0</td>\n",
              "    </tr>\n",
              "    <tr>\n",
              "      <th>2</th>\n",
              "      <td>3.89</td>\n",
              "      <td>0.51</td>\n",
              "      <td>0.2</td>\n",
              "      <td>0.102</td>\n",
              "      <td>0.23</td>\n",
              "      <td>0.2</td>\n",
              "      <td>0.046</td>\n",
              "      <td>0.74</td>\n",
              "      <td>5.0</td>\n",
              "      <td>0.2</td>\n",
              "      <td>1.0</td>\n",
              "      <td>0.00</td>\n",
              "      <td>0.2</td>\n",
              "      <td>0.000</td>\n",
              "      <td>2</td>\n",
              "      <td>0.2</td>\n",
              "      <td>0.4</td>\n",
              "      <td>0</td>\n",
              "      <td>0.2</td>\n",
              "      <td>0.0</td>\n",
              "      <td>2.0</td>\n",
              "      <td>1.548</td>\n",
              "      <td>0.4</td>\n",
              "      <td>0.5</td>\n",
              "      <td>0.3096</td>\n",
              "      <td>0</td>\n",
              "    </tr>\n",
              "    <tr>\n",
              "      <th>3</th>\n",
              "      <td>3.89</td>\n",
              "      <td>0.00</td>\n",
              "      <td>0.2</td>\n",
              "      <td>0.000</td>\n",
              "      <td>10.80</td>\n",
              "      <td>0.6</td>\n",
              "      <td>6.480</td>\n",
              "      <td>10.80</td>\n",
              "      <td>6.0</td>\n",
              "      <td>0.6</td>\n",
              "      <td>3.6</td>\n",
              "      <td>11.75</td>\n",
              "      <td>0.6</td>\n",
              "      <td>7.050</td>\n",
              "      <td>2</td>\n",
              "      <td>0.2</td>\n",
              "      <td>0.4</td>\n",
              "      <td>0</td>\n",
              "      <td>0.2</td>\n",
              "      <td>0.0</td>\n",
              "      <td>4.4</td>\n",
              "      <td>17.530</td>\n",
              "      <td>0.4</td>\n",
              "      <td>0.5</td>\n",
              "      <td>3.5060</td>\n",
              "      <td>1</td>\n",
              "    </tr>\n",
              "    <tr>\n",
              "      <th>4</th>\n",
              "      <td>3.89</td>\n",
              "      <td>0.00</td>\n",
              "      <td>0.2</td>\n",
              "      <td>0.000</td>\n",
              "      <td>0.08</td>\n",
              "      <td>0.2</td>\n",
              "      <td>0.016</td>\n",
              "      <td>0.08</td>\n",
              "      <td>5.0</td>\n",
              "      <td>0.2</td>\n",
              "      <td>1.0</td>\n",
              "      <td>0.00</td>\n",
              "      <td>0.2</td>\n",
              "      <td>0.000</td>\n",
              "      <td>2</td>\n",
              "      <td>0.2</td>\n",
              "      <td>0.4</td>\n",
              "      <td>0</td>\n",
              "      <td>0.2</td>\n",
              "      <td>0.0</td>\n",
              "      <td>2.0</td>\n",
              "      <td>1.416</td>\n",
              "      <td>0.4</td>\n",
              "      <td>0.5</td>\n",
              "      <td>0.2832</td>\n",
              "      <td>0</td>\n",
              "    </tr>\n",
              "  </tbody>\n",
              "</table>\n",
              "</div>"
            ],
            "text/plain": [
              "   Sector_score  PARA_A  Score_A  ...  Detection_Risk  Audit_Risk  Risk\n",
              "0          3.89    4.18      0.6  ...             0.5      1.7148     1\n",
              "1          3.89    0.00      0.2  ...             0.5      0.5108     0\n",
              "2          3.89    0.51      0.2  ...             0.5      0.3096     0\n",
              "3          3.89    0.00      0.2  ...             0.5      3.5060     1\n",
              "4          3.89    0.00      0.2  ...             0.5      0.2832     0\n",
              "\n",
              "[5 rows x 26 columns]"
            ]
          },
          "metadata": {
            "tags": []
          },
          "execution_count": 111
        }
      ]
    },
    {
      "cell_type": "code",
      "metadata": {
        "id": "sTu1YuXkrBWe",
        "outputId": "f7f20144-dced-4ef2-f8f3-88f179b528ab",
        "colab": {
          "base_uri": "https://localhost:8080/"
        }
      },
      "source": [
        "# check missing values in numerical variables\n",
        "\n",
        "df[numerical].isnull().sum()"
      ],
      "execution_count": null,
      "outputs": [
        {
          "output_type": "execute_result",
          "data": {
            "text/plain": [
              "Sector_score      0\n",
              "PARA_A            0\n",
              "Score_A           0\n",
              "Risk_A            0\n",
              "PARA_B            0\n",
              "Score_B           0\n",
              "Risk_B            0\n",
              "TOTAL             0\n",
              "numbers           0\n",
              "Score_B.1         0\n",
              "Risk_C            0\n",
              "Money_Value       1\n",
              "Score_MV          0\n",
              "Risk_D            0\n",
              "District_Loss     0\n",
              "PROB              0\n",
              "RiSk_E            0\n",
              "History           0\n",
              "Prob              0\n",
              "Risk_F            0\n",
              "Score             0\n",
              "Inherent_Risk     0\n",
              "CONTROL_RISK      0\n",
              "Detection_Risk    0\n",
              "Audit_Risk        0\n",
              "Risk              0\n",
              "dtype: int64"
            ]
          },
          "metadata": {
            "tags": []
          },
          "execution_count": 112
        }
      ]
    },
    {
      "cell_type": "code",
      "metadata": {
        "id": "QP8GgV1trEEJ",
        "outputId": "68cf050f-2a7e-484a-c10f-26e235427ab5",
        "colab": {
          "base_uri": "https://localhost:8080/"
        }
      },
      "source": [
        "# view summary statistics in numerical variables\n",
        "\n",
        "print(round(df[numerical].describe()),2)"
      ],
      "execution_count": null,
      "outputs": [
        {
          "output_type": "stream",
          "text": [
            "       Sector_score  PARA_A  Score_A  ...  Detection_Risk  Audit_Risk   Risk\n",
            "count         776.0   776.0    776.0  ...           776.0       776.0  776.0\n",
            "mean           20.0     2.0      0.0  ...             0.0         7.0    0.0\n",
            "std            24.0     6.0      0.0  ...             0.0        39.0    0.0\n",
            "min             2.0     0.0      0.0  ...             0.0         0.0    0.0\n",
            "25%             2.0     0.0      0.0  ...             0.0         0.0    0.0\n",
            "50%             4.0     1.0      0.0  ...             0.0         1.0    0.0\n",
            "75%            56.0     2.0      1.0  ...             0.0         3.0    1.0\n",
            "max            60.0    85.0      1.0  ...             0.0       962.0    1.0\n",
            "\n",
            "[8 rows x 26 columns] 2\n"
          ],
          "name": "stdout"
        }
      ]
    },
    {
      "cell_type": "code",
      "metadata": {
        "id": "gKuBfXpBrH8x",
        "outputId": "bfaab5cd-5818-41cf-be00-5204777b3d85",
        "colab": {
          "base_uri": "https://localhost:8080/"
        }
      },
      "source": [
        "\n",
        "IQR = df.Inherent_Risk.quantile(0.75) - df.Inherent_Risk.quantile(0.25)\n",
        "Lower_fence = df.Inherent_Risk.quantile(0.25) - (IQR * 3)\n",
        "Upper_fence = df.Inherent_Risk.quantile(0.75) + (IQR * 3)\n",
        "print('Inherent_Risk outliers are values < {lowerboundary} or > {upperboundary}'.format(lowerboundary=Lower_fence, upperboundary=Upper_fence))"
      ],
      "execution_count": null,
      "outputs": [
        {
          "output_type": "stream",
          "text": [
            "Inherent_Risk outliers are values < -25.656499999999994 or > 37.903499999999994\n"
          ],
          "name": "stdout"
        }
      ]
    },
    {
      "cell_type": "code",
      "metadata": {
        "id": "nHsSYBiVrUYo",
        "outputId": "bae3d83f-eece-4830-bffb-df762261f621",
        "colab": {
          "base_uri": "https://localhost:8080/"
        }
      },
      "source": [
        "\n",
        "IQR = df.Audit_Risk.quantile(0.75) - df.Audit_Risk.quantile(0.25)\n",
        "Lower_fence = df.Audit_Risk.quantile(0.25) - (IQR * 3)\n",
        "Upper_fence = df.Audit_Risk.quantile(0.75) + (IQR * 3)\n",
        "print('Audit_Risk outliers are values < {lowerboundary} or > {upperboundary}'.format(lowerboundary=Lower_fence, upperboundary=Upper_fence))"
      ],
      "execution_count": null,
      "outputs": [
        {
          "output_type": "stream",
          "text": [
            "Audit_Risk outliers are values < -8.4829 or > 12.049500000000002\n"
          ],
          "name": "stdout"
        }
      ]
    },
    {
      "cell_type": "code",
      "metadata": {
        "id": "6jkaxaP_r5Mp",
        "outputId": "9d662131-e1a2-4803-b6d0-b59006d05b10",
        "colab": {
          "base_uri": "https://localhost:8080/"
        }
      },
      "source": [
        "# find outliers for WindSpeed9am variable\n",
        "\n",
        "IQR = df.Money_Value.quantile(0.75) - df.Money_Value.quantile(0.25)\n",
        "Lower_fence = df.Money_Value.quantile(0.25) - (IQR * 3)\n",
        "Upper_fence = df.Money_Value.quantile(0.75) + (IQR * 3)\n",
        "print('Money_Value outliers are values < {lowerboundary} or > {upperboundary}'.format(lowerboundary=Lower_fence, upperboundary=Upper_fence))"
      ],
      "execution_count": null,
      "outputs": [
        {
          "output_type": "stream",
          "text": [
            "Money_Value outliers are values < -16.785000000000004 or > 22.380000000000003\n"
          ],
          "name": "stdout"
        }
      ]
    },
    {
      "cell_type": "code",
      "metadata": {
        "id": "w5TuK33OsKj2"
      },
      "source": [
        "X = df.drop(['Risk', 'LOCATION_ID'], axis=1)\n",
        "\n",
        "y = df['Risk']"
      ],
      "execution_count": null,
      "outputs": []
    },
    {
      "cell_type": "code",
      "metadata": {
        "id": "2Pd8X3n0sztw"
      },
      "source": [
        "# split X and y into training and testing sets\n",
        "\n",
        "from sklearn.model_selection import train_test_split\n",
        "\n",
        "X_train, X_test, y_train, y_test = train_test_split(X, y, test_size = 0.3, random_state = 0)"
      ],
      "execution_count": null,
      "outputs": []
    },
    {
      "cell_type": "code",
      "metadata": {
        "id": "LGHcv32utPhA",
        "outputId": "ac296694-1c60-4a9d-8c39-91f3732c8106",
        "colab": {
          "base_uri": "https://localhost:8080/"
        }
      },
      "source": [
        "# check the shape of X_train and X_test\n",
        "\n",
        "X_train.shape, X_test.shape"
      ],
      "execution_count": null,
      "outputs": [
        {
          "output_type": "execute_result",
          "data": {
            "text/plain": [
              "((543, 25), (233, 25))"
            ]
          },
          "metadata": {
            "tags": []
          },
          "execution_count": 119
        }
      ]
    },
    {
      "cell_type": "code",
      "metadata": {
        "id": "o-zfDpJGtROH",
        "outputId": "8724fe4f-48e3-4132-ee03-795143d39682",
        "colab": {
          "base_uri": "https://localhost:8080/"
        }
      },
      "source": [
        "# check data types in X_train\n",
        "\n",
        "X_train.dtypes"
      ],
      "execution_count": null,
      "outputs": [
        {
          "output_type": "execute_result",
          "data": {
            "text/plain": [
              "Sector_score      float64\n",
              "PARA_A            float64\n",
              "Score_A           float64\n",
              "Risk_A            float64\n",
              "PARA_B            float64\n",
              "Score_B           float64\n",
              "Risk_B            float64\n",
              "TOTAL             float64\n",
              "numbers           float64\n",
              "Score_B.1         float64\n",
              "Risk_C            float64\n",
              "Money_Value       float64\n",
              "Score_MV          float64\n",
              "Risk_D            float64\n",
              "District_Loss       int64\n",
              "PROB              float64\n",
              "RiSk_E            float64\n",
              "History             int64\n",
              "Prob              float64\n",
              "Risk_F            float64\n",
              "Score             float64\n",
              "Inherent_Risk     float64\n",
              "CONTROL_RISK      float64\n",
              "Detection_Risk    float64\n",
              "Audit_Risk        float64\n",
              "dtype: object"
            ]
          },
          "metadata": {
            "tags": []
          },
          "execution_count": 120
        }
      ]
    },
    {
      "cell_type": "code",
      "metadata": {
        "id": "C7A08-ewtSrt",
        "outputId": "7958de96-5ac3-46c5-f88d-d2acff12a612",
        "colab": {
          "base_uri": "https://localhost:8080/"
        }
      },
      "source": [
        "# display categorical variables\n",
        "\n",
        "categorical = [col for col in X_train.columns if X_train[col].dtypes == 'O']\n",
        "\n",
        "categorical"
      ],
      "execution_count": null,
      "outputs": [
        {
          "output_type": "execute_result",
          "data": {
            "text/plain": [
              "[]"
            ]
          },
          "metadata": {
            "tags": []
          },
          "execution_count": 121
        }
      ]
    },
    {
      "cell_type": "code",
      "metadata": {
        "id": "vDhqf6cxtUyi",
        "outputId": "c645ff0c-b0d6-4ef2-fbce-36a70f1a5d2c",
        "colab": {
          "base_uri": "https://localhost:8080/"
        }
      },
      "source": [
        "# display numerical variables\n",
        "\n",
        "numerical = [col for col in X_train.columns if X_train[col].dtypes != 'O']\n",
        "\n",
        "numerical"
      ],
      "execution_count": null,
      "outputs": [
        {
          "output_type": "execute_result",
          "data": {
            "text/plain": [
              "['Sector_score',\n",
              " 'PARA_A',\n",
              " 'Score_A',\n",
              " 'Risk_A',\n",
              " 'PARA_B',\n",
              " 'Score_B',\n",
              " 'Risk_B',\n",
              " 'TOTAL',\n",
              " 'numbers',\n",
              " 'Score_B.1',\n",
              " 'Risk_C',\n",
              " 'Money_Value',\n",
              " 'Score_MV',\n",
              " 'Risk_D',\n",
              " 'District_Loss',\n",
              " 'PROB',\n",
              " 'RiSk_E',\n",
              " 'History',\n",
              " 'Prob',\n",
              " 'Risk_F',\n",
              " 'Score',\n",
              " 'Inherent_Risk',\n",
              " 'CONTROL_RISK',\n",
              " 'Detection_Risk',\n",
              " 'Audit_Risk']"
            ]
          },
          "metadata": {
            "tags": []
          },
          "execution_count": 122
        }
      ]
    },
    {
      "cell_type": "code",
      "metadata": {
        "id": "FZ-xL91VtXcW",
        "outputId": "902120f5-4f9c-4a2a-afb1-bf6f1f4e0fd7",
        "colab": {
          "base_uri": "https://localhost:8080/"
        }
      },
      "source": [
        "# check missing values in numerical variables in X_train\n",
        "\n",
        "X_train[numerical].isnull().sum()"
      ],
      "execution_count": null,
      "outputs": [
        {
          "output_type": "execute_result",
          "data": {
            "text/plain": [
              "Sector_score      0\n",
              "PARA_A            0\n",
              "Score_A           0\n",
              "Risk_A            0\n",
              "PARA_B            0\n",
              "Score_B           0\n",
              "Risk_B            0\n",
              "TOTAL             0\n",
              "numbers           0\n",
              "Score_B.1         0\n",
              "Risk_C            0\n",
              "Money_Value       1\n",
              "Score_MV          0\n",
              "Risk_D            0\n",
              "District_Loss     0\n",
              "PROB              0\n",
              "RiSk_E            0\n",
              "History           0\n",
              "Prob              0\n",
              "Risk_F            0\n",
              "Score             0\n",
              "Inherent_Risk     0\n",
              "CONTROL_RISK      0\n",
              "Detection_Risk    0\n",
              "Audit_Risk        0\n",
              "dtype: int64"
            ]
          },
          "metadata": {
            "tags": []
          },
          "execution_count": 123
        }
      ]
    },
    {
      "cell_type": "code",
      "metadata": {
        "id": "46O-6yk2tgv4",
        "outputId": "c861ba68-b067-4c15-8687-d9f139d48f3b",
        "colab": {
          "base_uri": "https://localhost:8080/"
        }
      },
      "source": [
        "# check missing values in numerical variables in X_test\n",
        "\n",
        "X_test[numerical].isnull().sum()"
      ],
      "execution_count": null,
      "outputs": [
        {
          "output_type": "execute_result",
          "data": {
            "text/plain": [
              "Sector_score      0\n",
              "PARA_A            0\n",
              "Score_A           0\n",
              "Risk_A            0\n",
              "PARA_B            0\n",
              "Score_B           0\n",
              "Risk_B            0\n",
              "TOTAL             0\n",
              "numbers           0\n",
              "Score_B.1         0\n",
              "Risk_C            0\n",
              "Money_Value       0\n",
              "Score_MV          0\n",
              "Risk_D            0\n",
              "District_Loss     0\n",
              "PROB              0\n",
              "RiSk_E            0\n",
              "History           0\n",
              "Prob              0\n",
              "Risk_F            0\n",
              "Score             0\n",
              "Inherent_Risk     0\n",
              "CONTROL_RISK      0\n",
              "Detection_Risk    0\n",
              "Audit_Risk        0\n",
              "dtype: int64"
            ]
          },
          "metadata": {
            "tags": []
          },
          "execution_count": 124
        }
      ]
    },
    {
      "cell_type": "code",
      "metadata": {
        "id": "UrRScaP4tiff",
        "outputId": "8c4e671e-934e-4fad-97a6-2e6e5a54577e",
        "colab": {
          "base_uri": "https://localhost:8080/"
        }
      },
      "source": [
        "# print percentage of missing values in the numerical variables in training set\n",
        "\n",
        "for col in numerical:\n",
        "    if X_train[col].isnull().mean()>0:\n",
        "        print(col, round(X_train[col].isnull().mean(),4))"
      ],
      "execution_count": null,
      "outputs": [
        {
          "output_type": "stream",
          "text": [
            "Money_Value 0.0018\n"
          ],
          "name": "stdout"
        }
      ]
    },
    {
      "cell_type": "code",
      "metadata": {
        "id": "ZyCp8wC2ttpL",
        "outputId": "fd922593-6175-4151-e0fe-a5ceca3fb42f",
        "colab": {
          "base_uri": "https://localhost:8080/"
        }
      },
      "source": [
        "# impute missing values in X_train and X_test with respective column median in X_train\n",
        "\n",
        "for df1 in [X_train, X_test]:\n",
        "    for col in numerical:\n",
        "        col_median=X_train[col].median()\n",
        "        df1[col].fillna(col_median, inplace=True)     "
      ],
      "execution_count": null,
      "outputs": [
        {
          "output_type": "stream",
          "text": [
            "/usr/local/lib/python3.6/dist-packages/pandas/core/series.py:4523: SettingWithCopyWarning: \n",
            "A value is trying to be set on a copy of a slice from a DataFrame\n",
            "\n",
            "See the caveats in the documentation: https://pandas.pydata.org/pandas-docs/stable/user_guide/indexing.html#returning-a-view-versus-a-copy\n",
            "  downcast=downcast,\n"
          ],
          "name": "stderr"
        }
      ]
    },
    {
      "cell_type": "code",
      "metadata": {
        "id": "1y6Hc2UUuIsY",
        "outputId": "b5f97f86-9859-49a1-9a5e-1d6c029929d2",
        "colab": {
          "base_uri": "https://localhost:8080/"
        }
      },
      "source": [
        "# check again missing values in numerical variables in X_train\n",
        "\n",
        "X_train[numerical].isnull().sum()"
      ],
      "execution_count": null,
      "outputs": [
        {
          "output_type": "execute_result",
          "data": {
            "text/plain": [
              "Sector_score      0\n",
              "PARA_A            0\n",
              "Score_A           0\n",
              "Risk_A            0\n",
              "PARA_B            0\n",
              "Score_B           0\n",
              "Risk_B            0\n",
              "TOTAL             0\n",
              "numbers           0\n",
              "Score_B.1         0\n",
              "Risk_C            0\n",
              "Money_Value       0\n",
              "Score_MV          0\n",
              "Risk_D            0\n",
              "District_Loss     0\n",
              "PROB              0\n",
              "RiSk_E            0\n",
              "History           0\n",
              "Prob              0\n",
              "Risk_F            0\n",
              "Score             0\n",
              "Inherent_Risk     0\n",
              "CONTROL_RISK      0\n",
              "Detection_Risk    0\n",
              "Audit_Risk        0\n",
              "dtype: int64"
            ]
          },
          "metadata": {
            "tags": []
          },
          "execution_count": 127
        }
      ]
    },
    {
      "cell_type": "code",
      "metadata": {
        "id": "2g1aBUvOuNRc",
        "outputId": "5eb7f998-b17c-443f-a353-a317965f109a",
        "colab": {
          "base_uri": "https://localhost:8080/"
        }
      },
      "source": [
        "# check missing values in numerical variables in X_test\n",
        "\n",
        "X_test[numerical].isnull().sum()"
      ],
      "execution_count": null,
      "outputs": [
        {
          "output_type": "execute_result",
          "data": {
            "text/plain": [
              "Sector_score      0\n",
              "PARA_A            0\n",
              "Score_A           0\n",
              "Risk_A            0\n",
              "PARA_B            0\n",
              "Score_B           0\n",
              "Risk_B            0\n",
              "TOTAL             0\n",
              "numbers           0\n",
              "Score_B.1         0\n",
              "Risk_C            0\n",
              "Money_Value       0\n",
              "Score_MV          0\n",
              "Risk_D            0\n",
              "District_Loss     0\n",
              "PROB              0\n",
              "RiSk_E            0\n",
              "History           0\n",
              "Prob              0\n",
              "Risk_F            0\n",
              "Score             0\n",
              "Inherent_Risk     0\n",
              "CONTROL_RISK      0\n",
              "Detection_Risk    0\n",
              "Audit_Risk        0\n",
              "dtype: int64"
            ]
          },
          "metadata": {
            "tags": []
          },
          "execution_count": 128
        }
      ]
    },
    {
      "cell_type": "code",
      "metadata": {
        "id": "0S-0x9OYwofy"
      },
      "source": [
        "import pandas as pd\n",
        "\n",
        "def clean_dataset(df):\n",
        "    assert isinstance(df, pd.DataFrame), \"df needs to be a pd.DataFrame\"\n",
        "    df.dropna(inplace=True)\n",
        "    indices_to_keep = ~df.isin([np.nan, np.inf, -np.inf]).any(1)\n",
        "    return df[indices_to_keep].astype(np.float64)\n"
      ],
      "execution_count": null,
      "outputs": []
    },
    {
      "cell_type": "code",
      "metadata": {
        "id": "GqNLkxdhwY0D",
        "outputId": "193f27dd-5ef3-440b-b30f-3152f452fe41",
        "colab": {
          "base_uri": "https://localhost:8080/"
        }
      },
      "source": [
        "# train a logistic regression model on the training set\n",
        "from sklearn.linear_model import LogisticRegression\n",
        "\n",
        "\n",
        "# instantiate the model\n",
        "logreg = LogisticRegression(solver='liblinear', random_state=0)\n",
        "\n",
        "\n",
        "# fit the model\n",
        "logreg.fit(X_train, y_train)"
      ],
      "execution_count": null,
      "outputs": [
        {
          "output_type": "execute_result",
          "data": {
            "text/plain": [
              "LogisticRegression(C=1.0, class_weight=None, dual=False, fit_intercept=True,\n",
              "                   intercept_scaling=1, l1_ratio=None, max_iter=100,\n",
              "                   multi_class='auto', n_jobs=None, penalty='l2',\n",
              "                   random_state=0, solver='liblinear', tol=0.0001, verbose=0,\n",
              "                   warm_start=False)"
            ]
          },
          "metadata": {
            "tags": []
          },
          "execution_count": 130
        }
      ]
    },
    {
      "cell_type": "code",
      "metadata": {
        "id": "F1lp6zjBwalW",
        "outputId": "7217f6f5-f4f3-41e7-9b80-df97a83e7872",
        "colab": {
          "base_uri": "https://localhost:8080/"
        }
      },
      "source": [
        "y_pred_test = logreg.predict(X_test)\n",
        "\n",
        "y_pred_test"
      ],
      "execution_count": null,
      "outputs": [
        {
          "output_type": "execute_result",
          "data": {
            "text/plain": [
              "array([1, 1, 0, 0, 1, 0, 0, 0, 0, 0, 1, 1, 0, 0, 1, 0, 0, 1, 1, 1, 0, 1,\n",
              "       0, 0, 1, 0, 1, 0, 1, 0, 0, 0, 0, 1, 0, 0, 0, 0, 0, 1, 0, 1, 1, 1,\n",
              "       1, 0, 0, 1, 0, 1, 1, 0, 0, 0, 0, 1, 0, 0, 0, 0, 0, 0, 1, 1, 0, 0,\n",
              "       0, 0, 0, 0, 0, 0, 1, 1, 0, 0, 0, 0, 0, 1, 0, 0, 1, 0, 1, 0, 0, 0,\n",
              "       0, 0, 0, 1, 0, 0, 0, 1, 0, 0, 0, 1, 1, 1, 0, 0, 1, 0, 0, 0, 0, 0,\n",
              "       1, 0, 0, 0, 0, 1, 1, 0, 1, 1, 0, 0, 1, 0, 0, 0, 1, 1, 0, 1, 0, 0,\n",
              "       0, 1, 1, 0, 0, 0, 0, 1, 1, 0, 1, 0, 1, 1, 1, 1, 0, 0, 0, 0, 0, 0,\n",
              "       1, 0, 0, 1, 1, 0, 1, 1, 1, 1, 0, 0, 1, 0, 0, 0, 0, 0, 1, 0, 0, 1,\n",
              "       0, 1, 1, 0, 0, 0, 0, 0, 0, 1, 0, 1, 0, 0, 0, 1, 1, 0, 1, 1, 0, 0,\n",
              "       1, 1, 0, 0, 1, 1, 0, 0, 0, 0, 1, 1, 0, 1, 0, 0, 1, 0, 1, 0, 1, 1,\n",
              "       0, 0, 1, 1, 0, 0, 0, 0, 1, 1, 0, 1, 0])"
            ]
          },
          "metadata": {
            "tags": []
          },
          "execution_count": 131
        }
      ]
    },
    {
      "cell_type": "code",
      "metadata": {
        "id": "tfix7AltxHk5",
        "outputId": "4caa9a33-8817-4b09-e081-e03704506d20",
        "colab": {
          "base_uri": "https://localhost:8080/"
        }
      },
      "source": [
        "# probability of getting output as 0 - no rain\n",
        "\n",
        "logreg.predict_proba(X_test)[:,0]"
      ],
      "execution_count": null,
      "outputs": [
        {
          "output_type": "execute_result",
          "data": {
            "text/plain": [
              "array([0.00000000e+00, 0.00000000e+00, 9.99837213e-01, 9.99652607e-01,\n",
              "       6.55672448e-06, 9.96780080e-01, 9.99711636e-01, 9.59552600e-01,\n",
              "       9.99606620e-01, 9.99864927e-01, 0.00000000e+00, 0.00000000e+00,\n",
              "       9.99711144e-01, 9.99869689e-01, 0.00000000e+00, 9.99768106e-01,\n",
              "       9.99592871e-01, 5.20172275e-06, 5.12620721e-07, 2.14683785e-02,\n",
              "       9.99848450e-01, 5.53534823e-02, 9.99880873e-01, 9.99868514e-01,\n",
              "       0.00000000e+00, 9.99705277e-01, 0.00000000e+00, 9.99547588e-01,\n",
              "       4.99133280e-02, 9.99596916e-01, 9.99891097e-01, 9.99376907e-01,\n",
              "       9.99891097e-01, 0.00000000e+00, 9.76358980e-01, 9.99859448e-01,\n",
              "       9.99891097e-01, 9.99773445e-01, 6.17880598e-01, 3.10862447e-15,\n",
              "       9.99848450e-01, 0.00000000e+00, 1.29218388e-01, 1.57360973e-03,\n",
              "       2.37190267e-11, 9.99811348e-01, 9.99874902e-01, 2.04927786e-09,\n",
              "       9.99081015e-01, 0.00000000e+00, 0.00000000e+00, 9.99144898e-01,\n",
              "       9.98962938e-01, 9.97828723e-01, 9.99529975e-01, 9.06230646e-12,\n",
              "       9.59385999e-01, 9.68532401e-01, 9.65444689e-01, 8.01884843e-01,\n",
              "       9.99784621e-01, 9.99841250e-01, 0.00000000e+00, 4.16265214e-01,\n",
              "       9.99815090e-01, 9.99027910e-01, 9.99801206e-01, 9.98603955e-01,\n",
              "       9.99701093e-01, 5.64896320e-01, 9.99737622e-01, 8.38741385e-01,\n",
              "       2.90378388e-09, 0.00000000e+00, 9.99889755e-01, 9.99761415e-01,\n",
              "       9.99602720e-01, 9.99868514e-01, 9.98784955e-01, 0.00000000e+00,\n",
              "       9.99811742e-01, 9.99888086e-01, 1.88727971e-05, 9.99183977e-01,\n",
              "       0.00000000e+00, 9.99795610e-01, 9.99625087e-01, 9.92872508e-01,\n",
              "       9.99862194e-01, 9.97044166e-01, 9.99891097e-01, 0.00000000e+00,\n",
              "       9.99279165e-01, 9.99718621e-01, 9.95678661e-01, 5.95030070e-09,\n",
              "       9.99859023e-01, 9.99887800e-01, 9.99878673e-01, 0.00000000e+00,\n",
              "       0.00000000e+00, 0.00000000e+00, 9.99675852e-01, 9.99578560e-01,\n",
              "       8.27500604e-08, 9.99311712e-01, 9.99550188e-01, 9.99848807e-01,\n",
              "       9.99772708e-01, 9.99848450e-01, 4.11357461e-05, 9.99816468e-01,\n",
              "       9.99701883e-01, 9.99726294e-01, 9.90754251e-01, 0.00000000e+00,\n",
              "       2.10375516e-06, 9.98393525e-01, 1.46583351e-03, 1.19186170e-07,\n",
              "       9.99642233e-01, 9.99129335e-01, 6.46726584e-03, 9.99514155e-01,\n",
              "       9.99688476e-01, 9.99837874e-01, 0.00000000e+00, 1.89337598e-04,\n",
              "       9.99853377e-01, 5.51072829e-04, 9.98197530e-01, 9.99617364e-01,\n",
              "       9.99757864e-01, 0.00000000e+00, 0.00000000e+00, 9.99131969e-01,\n",
              "       9.99842668e-01, 9.99484630e-01, 9.99842253e-01, 0.00000000e+00,\n",
              "       0.00000000e+00, 9.99869689e-01, 1.10368743e-05, 9.99847988e-01,\n",
              "       0.00000000e+00, 0.00000000e+00, 0.00000000e+00, 1.49258783e-09,\n",
              "       9.99891097e-01, 6.24921562e-01, 9.99476668e-01, 9.97754667e-01,\n",
              "       9.92099224e-01, 9.98153912e-01, 0.00000000e+00, 9.99647574e-01,\n",
              "       9.99293474e-01, 0.00000000e+00, 1.02578741e-04, 9.99160715e-01,\n",
              "       0.00000000e+00, 4.54354457e-02, 1.75472008e-02, 2.49743531e-03,\n",
              "       9.99617995e-01, 9.99893952e-01, 5.09567699e-06, 9.99736188e-01,\n",
              "       9.99753488e-01, 9.66450888e-01, 9.99847988e-01, 8.38683922e-01,\n",
              "       8.78010740e-04, 9.99176952e-01, 9.99655451e-01, 8.57929880e-02,\n",
              "       7.36769822e-01, 5.07991338e-09, 1.69197989e-13, 9.99848807e-01,\n",
              "       9.99848807e-01, 9.36427879e-01, 9.99469035e-01, 9.99891097e-01,\n",
              "       9.99719999e-01, 0.00000000e+00, 9.99542642e-01, 0.00000000e+00,\n",
              "       9.98152761e-01, 9.99799586e-01, 9.99839572e-01, 0.00000000e+00,\n",
              "       0.00000000e+00, 9.97385999e-01, 1.11903834e-01, 0.00000000e+00,\n",
              "       9.99843768e-01, 9.99707411e-01, 0.00000000e+00, 0.00000000e+00,\n",
              "       9.18633762e-01, 9.99882075e-01, 0.00000000e+00, 0.00000000e+00,\n",
              "       8.61574401e-01, 9.99768593e-01, 9.99891097e-01, 9.99337288e-01,\n",
              "       1.09483615e-05, 0.00000000e+00, 9.62329536e-01, 1.11022302e-15,\n",
              "       9.99674380e-01, 9.99889755e-01, 1.22298246e-07, 9.99840677e-01,\n",
              "       4.40080809e-04, 9.99248141e-01, 1.97908617e-02, 2.38409736e-05,\n",
              "       9.06978866e-01, 9.99244117e-01, 1.23828693e-03, 1.11393636e-04,\n",
              "       9.99660834e-01, 9.99432272e-01, 9.84978417e-01, 9.99748432e-01,\n",
              "       0.00000000e+00, 0.00000000e+00, 9.99655908e-01, 1.73840942e-11,\n",
              "       9.99849453e-01])"
            ]
          },
          "metadata": {
            "tags": []
          },
          "execution_count": 132
        }
      ]
    },
    {
      "cell_type": "code",
      "metadata": {
        "id": "WMjRHD8IxJrO",
        "outputId": "ed8e51ef-1f45-4845-f5fd-1f81a6245958",
        "colab": {
          "base_uri": "https://localhost:8080/"
        }
      },
      "source": [
        "# probability of getting output as 1 - rain\n",
        "\n",
        "logreg.predict_proba(X_test)[:,1]"
      ],
      "execution_count": null,
      "outputs": [
        {
          "output_type": "execute_result",
          "data": {
            "text/plain": [
              "array([1.00000000e+00, 1.00000000e+00, 1.62786936e-04, 3.47393174e-04,\n",
              "       9.99993443e-01, 3.21991958e-03, 2.88364082e-04, 4.04473996e-02,\n",
              "       3.93380245e-04, 1.35073139e-04, 1.00000000e+00, 1.00000000e+00,\n",
              "       2.88856430e-04, 1.30311009e-04, 1.00000000e+00, 2.31893836e-04,\n",
              "       4.07129347e-04, 9.99994798e-01, 9.99999487e-01, 9.78531622e-01,\n",
              "       1.51550049e-04, 9.44646518e-01, 1.19127240e-04, 1.31485568e-04,\n",
              "       1.00000000e+00, 2.94722538e-04, 1.00000000e+00, 4.52411949e-04,\n",
              "       9.50086672e-01, 4.03083863e-04, 1.08903199e-04, 6.23093017e-04,\n",
              "       1.08903199e-04, 1.00000000e+00, 2.36410202e-02, 1.40551841e-04,\n",
              "       1.08903199e-04, 2.26555432e-04, 3.82119402e-01, 1.00000000e+00,\n",
              "       1.51550049e-04, 1.00000000e+00, 8.70781612e-01, 9.98426390e-01,\n",
              "       1.00000000e+00, 1.88652460e-04, 1.25098159e-04, 9.99999998e-01,\n",
              "       9.18984755e-04, 1.00000000e+00, 1.00000000e+00, 8.55101766e-04,\n",
              "       1.03706174e-03, 2.17127730e-03, 4.70024722e-04, 1.00000000e+00,\n",
              "       4.06140006e-02, 3.14675990e-02, 3.45553111e-02, 1.98115157e-01,\n",
              "       2.15379076e-04, 1.58749915e-04, 1.00000000e+00, 5.83734786e-01,\n",
              "       1.84909593e-04, 9.72089786e-04, 1.98794325e-04, 1.39604507e-03,\n",
              "       2.98907468e-04, 4.35103680e-01, 2.62378255e-04, 1.61258615e-01,\n",
              "       9.99999997e-01, 1.00000000e+00, 1.10244881e-04, 2.38585241e-04,\n",
              "       3.97280054e-04, 1.31485568e-04, 1.21504469e-03, 1.00000000e+00,\n",
              "       1.88257794e-04, 1.11913712e-04, 9.99981127e-01, 8.16022794e-04,\n",
              "       1.00000000e+00, 2.04389792e-04, 3.74912907e-04, 7.12749185e-03,\n",
              "       1.37806421e-04, 2.95583427e-03, 1.08903199e-04, 1.00000000e+00,\n",
              "       7.20834618e-04, 2.81378960e-04, 4.32133919e-03, 9.99999994e-01,\n",
              "       1.40977456e-04, 1.12199688e-04, 1.21326762e-04, 1.00000000e+00,\n",
              "       1.00000000e+00, 1.00000000e+00, 3.24147709e-04, 4.21439894e-04,\n",
              "       9.99999917e-01, 6.88287848e-04, 4.49812377e-04, 1.51192961e-04,\n",
              "       2.27291537e-04, 1.51550049e-04, 9.99958864e-01, 1.83531547e-04,\n",
              "       2.98117060e-04, 2.73706449e-04, 9.24574911e-03, 1.00000000e+00,\n",
              "       9.99997896e-01, 1.60647480e-03, 9.98534166e-01, 9.99999881e-01,\n",
              "       3.57767366e-04, 8.70664563e-04, 9.93532734e-01, 4.85845370e-04,\n",
              "       3.11524149e-04, 1.62126114e-04, 1.00000000e+00, 9.99810662e-01,\n",
              "       1.46623184e-04, 9.99448927e-01, 1.80247022e-03, 3.82636037e-04,\n",
              "       2.42136062e-04, 1.00000000e+00, 1.00000000e+00, 8.68031036e-04,\n",
              "       1.57331843e-04, 5.15370489e-04, 1.57747048e-04, 1.00000000e+00,\n",
              "       1.00000000e+00, 1.30311009e-04, 9.99988963e-01, 1.52011750e-04,\n",
              "       1.00000000e+00, 1.00000000e+00, 1.00000000e+00, 9.99999999e-01,\n",
              "       1.08903199e-04, 3.75078438e-01, 5.23332431e-04, 2.24533257e-03,\n",
              "       7.90077595e-03, 1.84608848e-03, 1.00000000e+00, 3.52425810e-04,\n",
              "       7.06525677e-04, 1.00000000e+00, 9.99897421e-01, 8.39284824e-04,\n",
              "       1.00000000e+00, 9.54564554e-01, 9.82452799e-01, 9.97502565e-01,\n",
              "       3.82004595e-04, 1.06047618e-04, 9.99994904e-01, 2.63812118e-04,\n",
              "       2.46511505e-04, 3.35491119e-02, 1.52011750e-04, 1.61316078e-01,\n",
              "       9.99121989e-01, 8.23048003e-04, 3.44549394e-04, 9.14207012e-01,\n",
              "       2.63230178e-01, 9.99999995e-01, 1.00000000e+00, 1.51192961e-04,\n",
              "       1.51192961e-04, 6.35721212e-02, 5.30965034e-04, 1.08903199e-04,\n",
              "       2.80000905e-04, 1.00000000e+00, 4.57358030e-04, 1.00000000e+00,\n",
              "       1.84723855e-03, 2.00413931e-04, 1.60428030e-04, 1.00000000e+00,\n",
              "       1.00000000e+00, 2.61400120e-03, 8.88096166e-01, 1.00000000e+00,\n",
              "       1.56231679e-04, 2.92588588e-04, 1.00000000e+00, 1.00000000e+00,\n",
              "       8.13662375e-02, 1.17925082e-04, 1.00000000e+00, 1.00000000e+00,\n",
              "       1.38425599e-01, 2.31406980e-04, 1.08903199e-04, 6.62711820e-04,\n",
              "       9.99989052e-01, 1.00000000e+00, 3.76704641e-02, 1.00000000e+00,\n",
              "       3.25619760e-04, 1.10244881e-04, 9.99999878e-01, 1.59322839e-04,\n",
              "       9.99559919e-01, 7.51859028e-04, 9.80209138e-01, 9.99976159e-01,\n",
              "       9.30211345e-02, 7.55882811e-04, 9.98761713e-01, 9.99888606e-01,\n",
              "       3.39166272e-04, 5.67728066e-04, 1.50215832e-02, 2.51567676e-04,\n",
              "       1.00000000e+00, 1.00000000e+00, 3.44091599e-04, 1.00000000e+00,\n",
              "       1.50546713e-04])"
            ]
          },
          "metadata": {
            "tags": []
          },
          "execution_count": 133
        }
      ]
    },
    {
      "cell_type": "code",
      "metadata": {
        "id": "ihpJ3y-WxLmi",
        "outputId": "85aba02d-4a19-4964-e0f5-55480fe39d43",
        "colab": {
          "base_uri": "https://localhost:8080/"
        }
      },
      "source": [
        "from sklearn.metrics import accuracy_score\n",
        "\n",
        "print('Model accuracy score: {0:0.4f}'. format(accuracy_score(y_test, y_pred_test)))"
      ],
      "execution_count": null,
      "outputs": [
        {
          "output_type": "stream",
          "text": [
            "Model accuracy score: 0.9914\n"
          ],
          "name": "stdout"
        }
      ]
    },
    {
      "cell_type": "code",
      "metadata": {
        "id": "ZDQDfzQwxSSE",
        "outputId": "0a5d021f-0f5b-4f5d-928f-18f300734d68",
        "colab": {
          "base_uri": "https://localhost:8080/"
        }
      },
      "source": [
        "y_pred_train = logreg.predict(X_train)\n",
        "\n",
        "y_pred_train\n"
      ],
      "execution_count": null,
      "outputs": [
        {
          "output_type": "execute_result",
          "data": {
            "text/plain": [
              "array([1, 0, 0, 0, 0, 0, 0, 0, 0, 1, 0, 0, 1, 0, 1, 1, 0, 0, 0, 0, 1, 1,\n",
              "       0, 0, 0, 0, 0, 0, 0, 0, 1, 0, 1, 1, 0, 0, 0, 1, 1, 0, 1, 0, 0, 1,\n",
              "       0, 0, 0, 1, 1, 1, 0, 1, 0, 0, 1, 0, 1, 0, 0, 1, 1, 1, 1, 0, 0, 0,\n",
              "       0, 1, 0, 1, 0, 0, 1, 1, 1, 0, 1, 1, 1, 0, 1, 1, 1, 1, 1, 0, 1, 0,\n",
              "       1, 0, 0, 1, 0, 0, 1, 0, 0, 1, 0, 1, 0, 1, 0, 0, 0, 1, 1, 1, 0, 0,\n",
              "       0, 0, 0, 0, 0, 0, 1, 0, 0, 0, 0, 0, 1, 0, 0, 0, 0, 1, 1, 0, 1, 1,\n",
              "       1, 0, 1, 1, 1, 1, 0, 0, 0, 1, 0, 1, 0, 1, 1, 0, 0, 0, 0, 0, 0, 1,\n",
              "       0, 1, 1, 1, 0, 1, 1, 1, 0, 0, 1, 0, 1, 1, 0, 0, 1, 0, 0, 0, 0, 1,\n",
              "       1, 1, 0, 1, 1, 0, 0, 0, 0, 0, 0, 0, 1, 1, 1, 0, 0, 0, 0, 1, 1, 0,\n",
              "       1, 1, 0, 0, 1, 1, 1, 0, 0, 0, 1, 0, 1, 1, 0, 0, 0, 1, 0, 0, 1, 0,\n",
              "       0, 0, 0, 1, 0, 0, 1, 0, 1, 1, 0, 0, 0, 1, 0, 0, 1, 1, 0, 0, 0, 0,\n",
              "       1, 1, 1, 0, 1, 0, 1, 1, 1, 0, 0, 0, 0, 0, 0, 1, 0, 1, 0, 0, 0, 0,\n",
              "       0, 1, 1, 1, 1, 1, 0, 1, 1, 1, 1, 0, 0, 1, 1, 0, 0, 0, 1, 0, 0, 0,\n",
              "       1, 1, 0, 0, 0, 1, 0, 0, 0, 0, 0, 0, 0, 1, 1, 1, 0, 1, 1, 0, 1, 0,\n",
              "       0, 0, 0, 1, 0, 1, 0, 0, 0, 0, 0, 1, 0, 0, 0, 0, 1, 0, 0, 0, 0, 1,\n",
              "       0, 1, 0, 0, 1, 0, 1, 1, 1, 1, 0, 0, 0, 0, 0, 0, 1, 1, 0, 0, 1, 1,\n",
              "       0, 0, 0, 0, 0, 1, 1, 0, 1, 1, 0, 0, 1, 1, 1, 0, 1, 0, 0, 0, 0, 1,\n",
              "       0, 1, 1, 0, 1, 0, 1, 1, 1, 1, 0, 1, 1, 0, 0, 0, 1, 0, 0, 0, 0, 0,\n",
              "       1, 0, 1, 0, 1, 0, 1, 1, 0, 1, 0, 1, 0, 0, 0, 0, 0, 0, 0, 0, 0, 0,\n",
              "       0, 1, 0, 1, 0, 0, 1, 1, 0, 0, 0, 1, 1, 0, 1, 0, 1, 0, 1, 0, 0, 1,\n",
              "       0, 0, 0, 0, 1, 0, 0, 0, 0, 0, 0, 1, 1, 0, 0, 1, 0, 0, 0, 0, 1, 0,\n",
              "       1, 0, 1, 0, 0, 1, 1, 0, 0, 0, 0, 1, 0, 0, 0, 1, 0, 1, 0, 0, 0, 0,\n",
              "       0, 0, 0, 0, 1, 1, 0, 0, 0, 1, 0, 0, 1, 0, 0, 1, 0, 0, 0, 0, 1, 0,\n",
              "       0, 1, 1, 1, 0, 0, 1, 0, 1, 0, 1, 1, 0, 0, 0, 0, 1, 0, 1, 0, 1, 1,\n",
              "       0, 0, 1, 1, 0, 1, 0, 0, 0, 0, 0, 1, 0, 0, 0])"
            ]
          },
          "metadata": {
            "tags": []
          },
          "execution_count": 135
        }
      ]
    },
    {
      "cell_type": "code",
      "metadata": {
        "id": "5v7zTrbzxUO8",
        "outputId": "e21841f3-fb3d-4c44-d1db-e11356323b0d",
        "colab": {
          "base_uri": "https://localhost:8080/"
        }
      },
      "source": [
        "print('Training-set accuracy score: {0:0.4f}'. format(accuracy_score(y_train, y_pred_train)))"
      ],
      "execution_count": null,
      "outputs": [
        {
          "output_type": "stream",
          "text": [
            "Training-set accuracy score: 0.9945\n"
          ],
          "name": "stdout"
        }
      ]
    },
    {
      "cell_type": "code",
      "metadata": {
        "id": "STS8m9UaxUjX",
        "outputId": "3df2b9ab-4146-4905-8083-b0cac76cfa78",
        "colab": {
          "base_uri": "https://localhost:8080/"
        }
      },
      "source": [
        "# print the scores on training and test set\n",
        "\n",
        "print('Training set score: {:.4f}'.format(logreg.score(X_train, y_train)))\n",
        "\n",
        "print('Test set score: {:.4f}'.format(logreg.score(X_test, y_test)))\n"
      ],
      "execution_count": null,
      "outputs": [
        {
          "output_type": "stream",
          "text": [
            "Training set score: 0.9945\n",
            "Test set score: 0.9914\n"
          ],
          "name": "stdout"
        }
      ]
    },
    {
      "cell_type": "code",
      "metadata": {
        "id": "ha9BMI-FxYt7",
        "outputId": "a23bb60e-a22f-44d7-c01c-10a839655f8c",
        "colab": {
          "base_uri": "https://localhost:8080/"
        }
      },
      "source": [
        "# fit the Logsitic Regression model with C=001\n",
        "\n",
        "# instantiate the model\n",
        "logreg001 = LogisticRegression(C=0.01, solver='liblinear', random_state=0)\n",
        "\n",
        "\n",
        "# fit the model\n",
        "logreg001.fit(X_train, y_train)"
      ],
      "execution_count": null,
      "outputs": [
        {
          "output_type": "execute_result",
          "data": {
            "text/plain": [
              "LogisticRegression(C=0.01, class_weight=None, dual=False, fit_intercept=True,\n",
              "                   intercept_scaling=1, l1_ratio=None, max_iter=100,\n",
              "                   multi_class='auto', n_jobs=None, penalty='l2',\n",
              "                   random_state=0, solver='liblinear', tol=0.0001, verbose=0,\n",
              "                   warm_start=False)"
            ]
          },
          "metadata": {
            "tags": []
          },
          "execution_count": 139
        }
      ]
    },
    {
      "cell_type": "code",
      "metadata": {
        "id": "Y9SWmh0hxaXr",
        "outputId": "71bdc219-4548-46d1-aeca-c67bcb97f689",
        "colab": {
          "base_uri": "https://localhost:8080/"
        }
      },
      "source": [
        "# Print the Confusion Matrix and slice it into four pieces\n",
        "\n",
        "from sklearn.metrics import confusion_matrix\n",
        "\n",
        "cm = confusion_matrix(y_test, y_pred_test)\n",
        "\n",
        "print('Confusion matrix\\n\\n', cm)\n",
        "\n",
        "print('\\nTrue Positives(TP) = ', cm[0,0])\n",
        "\n",
        "print('\\nTrue Negatives(TN) = ', cm[1,1])\n",
        "\n",
        "print('\\nFalse Positives(FP) = ', cm[0,1])\n",
        "\n",
        "print('\\nFalse Negatives(FN) = ', cm[1,0])"
      ],
      "execution_count": null,
      "outputs": [
        {
          "output_type": "stream",
          "text": [
            "Confusion matrix\n",
            "\n",
            " [[144   1]\n",
            " [  1  87]]\n",
            "\n",
            "True Positives(TP) =  144\n",
            "\n",
            "True Negatives(TN) =  87\n",
            "\n",
            "False Positives(FP) =  1\n",
            "\n",
            "False Negatives(FN) =  1\n"
          ],
          "name": "stdout"
        }
      ]
    },
    {
      "cell_type": "code",
      "metadata": {
        "id": "UBRIhys5xdkn",
        "outputId": "95dfd4b4-ea4d-416e-c736-25d54ab1f6aa",
        "colab": {
          "base_uri": "https://localhost:8080/",
          "height": 299
        }
      },
      "source": [
        "# visualize confusion matrix with seaborn heatmap\n",
        "\n",
        "cm_matrix = pd.DataFrame(data=cm, columns=['Actual Positive:1', 'Actual Negative:0'], \n",
        "                                 index=['Predict Positive:1', 'Predict Negative:0'])\n",
        "\n",
        "sns.heatmap(cm_matrix, annot=True, fmt='d', cmap='YlGnBu')"
      ],
      "execution_count": null,
      "outputs": [
        {
          "output_type": "execute_result",
          "data": {
            "text/plain": [
              "<matplotlib.axes._subplots.AxesSubplot at 0x7f8da210f358>"
            ]
          },
          "metadata": {
            "tags": []
          },
          "execution_count": 141
        },
        {
          "output_type": "display_data",
          "data": {
            "image/png": "[encoded data removed]",
            "text/plain": [
              "<Figure size 432x288 with 2 Axes>"
            ]
          },
          "metadata": {
            "tags": [],
            "needs_background": "light"
          }
        }
      ]
    },
    {
      "cell_type": "code",
      "metadata": {
        "id": "dIZlgLeBxhNR"
      },
      "source": [
        ""
      ],
      "execution_count": null,
      "outputs": []
    }
  ]
}