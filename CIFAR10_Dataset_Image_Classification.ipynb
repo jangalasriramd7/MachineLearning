{
  "nbformat": 4,
  "nbformat_minor": 0,
  "metadata": {
    "colab": {
      "name": "CIFAR10 Dataset Image Classification",
      "provenance": [],
      "collapsed_sections": [],
      "authorship_tag": "ABX9TyPAXLiVue3eBVNdjYRk1L8T",
      "include_colab_link": true
    },
    "kernelspec": {
      "name": "python3",
      "display_name": "Python 3"
    }
  },
  "cells": [
    {
      "cell_type": "markdown",
      "metadata": {
        "id": "view-in-github",
        "colab_type": "text"
      },
      "source": [
        "<a href=\"https://colab.research.google.com/github/jangalasriramd7/MachineLearning/blob/main/CIFAR10_Dataset_Image_Classification.ipynb\" target=\"_parent\"><img src=\"https://colab.research.google.com/assets/colab-badge.svg\" alt=\"Open In Colab\"/></a>"
      ]
    },
    {
      "cell_type": "code",
      "metadata": {
        "id": "gUNH6EyBVT2L"
      },
      "source": [
        "import tensorflow as tf\r\n",
        "from tensorflow.keras import datasets, layers, models\r\n",
        "import matplotlib.pyplot as plt\r\n",
        "import numpy as np"
      ],
      "execution_count": 25,
      "outputs": []
    },
    {
      "cell_type": "code",
      "metadata": {
        "colab": {
          "base_uri": "https://localhost:8080/"
        },
        "id": "VB0PrZt8VevE",
        "outputId": "fe762057-9e7d-43eb-9268-dc02556cf187"
      },
      "source": [
        "(X_train, y_train), (X_test, y_test) = datasets.cifar10.load_data()\r\n",
        "X_train.shape"
      ],
      "execution_count": 26,
      "outputs": [
        {
          "output_type": "execute_result",
          "data": {
            "text/plain": [
              "(50000, 32, 32, 3)"
            ]
          },
          "metadata": {
            "tags": []
          },
          "execution_count": 26
        }
      ]
    },
    {
      "cell_type": "code",
      "metadata": {
        "colab": {
          "base_uri": "https://localhost:8080/"
        },
        "id": "UjKvr5voVjZK",
        "outputId": "7a8485fb-27da-469b-b046-d0df30cd042c"
      },
      "source": [
        "X_test.shape"
      ],
      "execution_count": 27,
      "outputs": [
        {
          "output_type": "execute_result",
          "data": {
            "text/plain": [
              "(10000, 32, 32, 3)"
            ]
          },
          "metadata": {
            "tags": []
          },
          "execution_count": 27
        }
      ]
    },
    {
      "cell_type": "code",
      "metadata": {
        "colab": {
          "base_uri": "https://localhost:8080/"
        },
        "id": "FMHKOP96W3qs",
        "outputId": "881ea251-09e9-49c8-eb0c-193a57b148fa"
      },
      "source": [
        "y_test[:5]"
      ],
      "execution_count": 28,
      "outputs": [
        {
          "output_type": "execute_result",
          "data": {
            "text/plain": [
              "array([[3],\n",
              "       [8],\n",
              "       [8],\n",
              "       [0],\n",
              "       [6]], dtype=uint8)"
            ]
          },
          "metadata": {
            "tags": []
          },
          "execution_count": 28
        }
      ]
    },
    {
      "cell_type": "code",
      "metadata": {
        "colab": {
          "base_uri": "https://localhost:8080/"
        },
        "id": "J4TMajF_XA8-",
        "outputId": "2c27d211-8829-4932-eb27-ba62ff725022"
      },
      "source": [
        "y_train = y_train.reshape(-1,)\r\n",
        "y_train[:5]"
      ],
      "execution_count": 29,
      "outputs": [
        {
          "output_type": "execute_result",
          "data": {
            "text/plain": [
              "array([6, 9, 9, 4, 1], dtype=uint8)"
            ]
          },
          "metadata": {
            "tags": []
          },
          "execution_count": 29
        }
      ]
    },
    {
      "cell_type": "code",
      "metadata": {
        "id": "rDu61KdEWjoF"
      },
      "source": [
        "classes = [\"airplane\", \"automobile\", \"bird\", \"cat\", \"deer\", \"dog\", \"frog\", \"horse\", \"ship\", \"truck\"]"
      ],
      "execution_count": 30,
      "outputs": []
    },
    {
      "cell_type": "code",
      "metadata": {
        "colab": {
          "base_uri": "https://localhost:8080/",
          "height": 35
        },
        "id": "MSD8LwoyXSPL",
        "outputId": "e1495ade-ad69-49a3-869f-e29db8025d06"
      },
      "source": [
        "classes[9]"
      ],
      "execution_count": 31,
      "outputs": [
        {
          "output_type": "execute_result",
          "data": {
            "application/vnd.google.colaboratory.intrinsic+json": {
              "type": "string"
            },
            "text/plain": [
              "'truck'"
            ]
          },
          "metadata": {
            "tags": []
          },
          "execution_count": 31
        }
      ]
    },
    {
      "cell_type": "code",
      "metadata": {
        "id": "q12cl-85V0U9"
      },
      "source": [
        "def plot_sample(X, y, index):\r\n",
        "  plt.figure(figsize=(15,2))\r\n",
        "  plt.imshow(X_train[index])\r\n",
        "  plt.xlabel(classes[y[index]])"
      ],
      "execution_count": 32,
      "outputs": []
    },
    {
      "cell_type": "code",
      "metadata": {
        "colab": {
          "base_uri": "https://localhost:8080/",
          "height": 173
        },
        "id": "5uUOV1jzXj_k",
        "outputId": "5f1dc756-1873-4edb-f122-4edb1aad67de"
      },
      "source": [
        "plot_sample(X_train, y_train, 0)"
      ],
      "execution_count": 33,
      "outputs": [
        {
          "output_type": "display_data",
          "data": {
            "image/png": "[encoded data removed]",
            "text/plain": [
              "<Figure size 1080x144 with 1 Axes>"
            ]
          },
          "metadata": {
            "tags": [],
            "needs_background": "light"
          }
        }
      ]
    },
    {
      "cell_type": "code",
      "metadata": {
        "colab": {
          "base_uri": "https://localhost:8080/",
          "height": 173
        },
        "id": "2Bxgvwb4V2zQ",
        "outputId": "cacc3b86-8627-4780-aee0-710d0284dcec"
      },
      "source": [
        "plot_sample(X_train, y_train, 3)"
      ],
      "execution_count": 34,
      "outputs": [
        {
          "output_type": "display_data",
          "data": {
            "image/png": "[encoded data removed]",
            "text/plain": [
              "<Figure size 1080x144 with 1 Axes>"
            ]
          },
          "metadata": {
            "tags": [],
            "needs_background": "light"
          }
        }
      ]
    },
    {
      "cell_type": "code",
      "metadata": {
        "id": "K4l9dr7jXhV3"
      },
      "source": [
        "X_train = X_train/255\r\n",
        "X_test = X_test/255"
      ],
      "execution_count": 35,
      "outputs": []
    },
    {
      "cell_type": "code",
      "metadata": {
        "colab": {
          "base_uri": "https://localhost:8080/"
        },
        "id": "eidYK79nX6dP",
        "outputId": "0d20af76-24ee-4c1d-f44e-4657d5086730"
      },
      "source": [
        "ann = models.Sequential([\r\n",
        "                         layers.Flatten(input_shape=(32,32,3)),\r\n",
        "                         layers.Dense(3000, activation='relu'),\r\n",
        "                         layers.Dense(1000, activation='relu'),\r\n",
        "                         layers.Dense(10, activation='sigmoid')\r\n",
        "])\r\n",
        "\r\n",
        "ann.compile(optimizer = 'SGD',\r\n",
        "            loss = 'sparse_categorical_crossentropy',\r\n",
        "            metrics=['accuracy'])\r\n",
        "\r\n",
        "ann.fit(X_train, y_train, epochs=5)"
      ],
      "execution_count": 36,
      "outputs": [
        {
          "output_type": "stream",
          "text": [
            "Epoch 1/5\n",
            "1563/1563 [==============================] - 107s 68ms/step - loss: 1.8583 - accuracy: 0.3317\n",
            "Epoch 2/5\n",
            "1563/1563 [==============================] - 105s 67ms/step - loss: 1.6580 - accuracy: 0.4120\n",
            "Epoch 3/5\n",
            "1563/1563 [==============================] - 109s 70ms/step - loss: 1.5695 - accuracy: 0.4453\n",
            "Epoch 4/5\n",
            "1563/1563 [==============================] - 107s 68ms/step - loss: 1.5086 - accuracy: 0.4691\n",
            "Epoch 5/5\n",
            "1563/1563 [==============================] - 109s 70ms/step - loss: 1.4571 - accuracy: 0.4854\n"
          ],
          "name": "stdout"
        },
        {
          "output_type": "execute_result",
          "data": {
            "text/plain": [
              "<tensorflow.python.keras.callbacks.History at 0x7f3a28796ba8>"
            ]
          },
          "metadata": {
            "tags": []
          },
          "execution_count": 36
        }
      ]
    },
    {
      "cell_type": "code",
      "metadata": {
        "colab": {
          "base_uri": "https://localhost:8080/"
        },
        "id": "KN7gISesZOMs",
        "outputId": "f1c06fb0-414b-47b5-f7b9-76e6879b6034"
      },
      "source": [
        "ann.evaluate(X_test, y_test)"
      ],
      "execution_count": 37,
      "outputs": [
        {
          "output_type": "stream",
          "text": [
            "313/313 [==============================] - 9s 28ms/step - loss: 1.5432 - accuracy: 0.4548\n"
          ],
          "name": "stdout"
        },
        {
          "output_type": "execute_result",
          "data": {
            "text/plain": [
              "[1.5432401895523071, 0.454800009727478]"
            ]
          },
          "metadata": {
            "tags": []
          },
          "execution_count": 37
        }
      ]
    },
    {
      "cell_type": "code",
      "metadata": {
        "colab": {
          "base_uri": "https://localhost:8080/"
        },
        "id": "gVWjomc8adpt",
        "outputId": "5b489b90-3b9b-4a96-ba5e-75a6a1ef14ca"
      },
      "source": [
        "from sklearn.metrics import confusion_matrix, classification_report\r\n",
        "import numpy as np\r\n",
        "y_pred = ann.predict(X_test)\r\n",
        "y_pred_classes = [np.argmax(element) for element in y_pred]\r\n",
        "\r\n",
        "print(\"Classification Report: \\n\", classification_report(y_test, y_pred_classes))"
      ],
      "execution_count": 38,
      "outputs": [
        {
          "output_type": "stream",
          "text": [
            "Classification Report: \n",
            "               precision    recall  f1-score   support\n",
            "\n",
            "           0       0.64      0.44      0.52      1000\n",
            "           1       0.58      0.63      0.61      1000\n",
            "           2       0.37      0.23      0.28      1000\n",
            "           3       0.45      0.14      0.21      1000\n",
            "           4       0.27      0.71      0.39      1000\n",
            "           5       0.56      0.18      0.27      1000\n",
            "           6       0.42      0.65      0.51      1000\n",
            "           7       0.69      0.34      0.46      1000\n",
            "           8       0.51      0.72      0.60      1000\n",
            "           9       0.57      0.51      0.54      1000\n",
            "\n",
            "    accuracy                           0.45     10000\n",
            "   macro avg       0.51      0.45      0.44     10000\n",
            "weighted avg       0.51      0.45      0.44     10000\n",
            "\n"
          ],
          "name": "stdout"
        }
      ]
    },
    {
      "cell_type": "code",
      "metadata": {
        "id": "zf_typL4bHkc"
      },
      "source": [
        "cnn = models.Sequential([\r\n",
        "                         \r\n",
        "                         #cnn\r\n",
        "                         layers.Conv2D(filters=32, kernel_size = (3,3),  activation='relu', input_shape=(32, 32, 3)),\r\n",
        "                         layers.MaxPooling2D((2,2)),\r\n",
        "                         #cnn\r\n",
        "                         layers.Conv2D(filters=64, kernel_size = (3,3),  activation='relu'),\r\n",
        "                         layers.MaxPooling2D((2,2)),\r\n",
        "                         #dense\r\n",
        "                         layers.Flatten(),\r\n",
        "                         layers.Dense(64, activation='relu'),\r\n",
        "                         layers.Dense(10, activation='softmax')\r\n",
        "])"
      ],
      "execution_count": 47,
      "outputs": []
    },
    {
      "cell_type": "code",
      "metadata": {
        "id": "zqQAuHh6dSZK"
      },
      "source": [
        "cnn.compile(optimizer='adam', \r\n",
        "              loss='sparse_categorical_crossentropy',\r\n",
        "              metrics = ['accuracy'])"
      ],
      "execution_count": 48,
      "outputs": []
    },
    {
      "cell_type": "code",
      "metadata": {
        "colab": {
          "base_uri": "https://localhost:8080/"
        },
        "id": "e-qUNYSae89R",
        "outputId": "f865ceb4-089b-460d-9f5c-bc374bf34392"
      },
      "source": [
        "cnn.fit(X_train, y_train, epochs=10)"
      ],
      "execution_count": 49,
      "outputs": [
        {
          "output_type": "stream",
          "text": [
            "Epoch 1/10\n",
            "1563/1563 [==============================] - 58s 37ms/step - loss: 1.4563 - accuracy: 0.4786\n",
            "Epoch 2/10\n",
            "1563/1563 [==============================] - 60s 39ms/step - loss: 1.1057 - accuracy: 0.6128\n",
            "Epoch 3/10\n",
            "1563/1563 [==============================] - 60s 39ms/step - loss: 0.9742 - accuracy: 0.6597\n",
            "Epoch 4/10\n",
            "1563/1563 [==============================] - 60s 38ms/step - loss: 0.8875 - accuracy: 0.6920\n",
            "Epoch 5/10\n",
            "1563/1563 [==============================] - 61s 39ms/step - loss: 0.8180 - accuracy: 0.7142\n",
            "Epoch 6/10\n",
            "1563/1563 [==============================] - 59s 38ms/step - loss: 0.7594 - accuracy: 0.7355\n",
            "Epoch 7/10\n",
            "1563/1563 [==============================] - 59s 38ms/step - loss: 0.7110 - accuracy: 0.7527\n",
            "Epoch 8/10\n",
            "1563/1563 [==============================] - 60s 38ms/step - loss: 0.6608 - accuracy: 0.7706\n",
            "Epoch 9/10\n",
            "1563/1563 [==============================] - 61s 39ms/step - loss: 0.6214 - accuracy: 0.7826\n",
            "Epoch 10/10\n",
            "1563/1563 [==============================] - 59s 38ms/step - loss: 0.5875 - accuracy: 0.7951\n"
          ],
          "name": "stdout"
        },
        {
          "output_type": "execute_result",
          "data": {
            "text/plain": [
              "<tensorflow.python.keras.callbacks.History at 0x7f3a3b5a3dd8>"
            ]
          },
          "metadata": {
            "tags": []
          },
          "execution_count": 49
        }
      ]
    },
    {
      "cell_type": "code",
      "metadata": {
        "colab": {
          "base_uri": "https://localhost:8080/"
        },
        "id": "zgPhku7ZfMzH",
        "outputId": "b07e6002-ec70-4c72-87ff-f69ed3026b4e"
      },
      "source": [
        "cnn.evaluate(X_test, y_test)"
      ],
      "execution_count": 50,
      "outputs": [
        {
          "output_type": "stream",
          "text": [
            "313/313 [==============================] - 4s 12ms/step - loss: 0.9444 - accuracy: 0.6951\n"
          ],
          "name": "stdout"
        },
        {
          "output_type": "execute_result",
          "data": {
            "text/plain": [
              "[0.944352924823761, 0.6951000094413757]"
            ]
          },
          "metadata": {
            "tags": []
          },
          "execution_count": 50
        }
      ]
    },
    {
      "cell_type": "code",
      "metadata": {
        "colab": {
          "base_uri": "https://localhost:8080/"
        },
        "id": "SKFkh_SRLPuh",
        "outputId": "377e6e51-7edc-457b-ee03-edd4f1d8f642"
      },
      "source": [
        "y_test = y_test.reshape(-1,)\r\n",
        "y_test[:5]"
      ],
      "execution_count": 51,
      "outputs": [
        {
          "output_type": "execute_result",
          "data": {
            "text/plain": [
              "array([3, 8, 8, 0, 6], dtype=uint8)"
            ]
          },
          "metadata": {
            "tags": []
          },
          "execution_count": 51
        }
      ]
    },
    {
      "cell_type": "code",
      "metadata": {
        "colab": {
          "base_uri": "https://localhost:8080/",
          "height": 173
        },
        "id": "hlbKi7VSk8Es",
        "outputId": "7fd223d0-2462-4a0a-bb34-ac21e63b11cd"
      },
      "source": [
        "plot_sample(X_test, y_test, 1)"
      ],
      "execution_count": 55,
      "outputs": [
        {
          "output_type": "display_data",
          "data": {
            "image/png": "[encoded data removed]",
            "text/plain": [
              "<Figure size 1080x144 with 1 Axes>"
            ]
          },
          "metadata": {
            "tags": [],
            "needs_background": "light"
          }
        }
      ]
    },
    {
      "cell_type": "code",
      "metadata": {
        "colab": {
          "base_uri": "https://localhost:8080/"
        },
        "id": "0rwyQ0JalLPx",
        "outputId": "73b24534-472f-4aaa-ea5b-78bd7b315cbb"
      },
      "source": [
        "y_pred = cnn.predict(X_test)\r\n",
        "y_pred[:5]"
      ],
      "execution_count": 56,
      "outputs": [
        {
          "output_type": "execute_result",
          "data": {
            "text/plain": [
              "array([[4.44330228e-03, 1.19038275e-04, 4.56011476e-04, 5.48287034e-01,\n",
              "        4.91275059e-05, 4.08302277e-01, 1.92883667e-02, 5.38964057e-04,\n",
              "        1.81658212e-02, 3.50096583e-04],\n",
              "       [7.00158766e-04, 7.59636238e-03, 2.33117532e-07, 1.44221604e-08,\n",
              "        4.40889192e-09, 1.06527842e-09, 1.52093060e-10, 1.13605847e-10,\n",
              "        9.91696358e-01, 6.90218167e-06],\n",
              "       [3.54017839e-02, 3.71610792e-03, 3.56989680e-04, 1.95600034e-04,\n",
              "        5.57755702e-05, 3.69689631e-04, 1.36196622e-05, 6.78544966e-05,\n",
              "        9.59230840e-01, 5.91732736e-04],\n",
              "       [9.79948401e-01, 3.71763110e-03, 7.08937878e-03, 4.15999297e-04,\n",
              "        3.83329520e-04, 8.98414437e-05, 1.83664179e-05, 7.87038516e-06,\n",
              "        8.29345547e-03, 3.59064470e-05],\n",
              "       [7.38596498e-07, 2.65720951e-06, 2.40821112e-03, 3.20685026e-03,\n",
              "        1.48117617e-01, 5.39456378e-04, 8.45722079e-01, 5.69153258e-07,\n",
              "        4.34718487e-07, 1.41101270e-06]], dtype=float32)"
            ]
          },
          "metadata": {
            "tags": []
          },
          "execution_count": 56
        }
      ]
    },
    {
      "cell_type": "code",
      "metadata": {
        "colab": {
          "base_uri": "https://localhost:8080/"
        },
        "id": "-K4OS9q6-O_i",
        "outputId": "85a25e2c-34c6-4772-a29c-bdb952c614dc"
      },
      "source": [
        "y_classes = [np.argmax(element) for element in y_pred]\r\n",
        "y_classes[:5]"
      ],
      "execution_count": 60,
      "outputs": [
        {
          "output_type": "execute_result",
          "data": {
            "text/plain": [
              "[3, 8, 8, 0, 6]"
            ]
          },
          "metadata": {
            "tags": []
          },
          "execution_count": 60
        }
      ]
    },
    {
      "cell_type": "code",
      "metadata": {
        "colab": {
          "base_uri": "https://localhost:8080/",
          "height": 173
        },
        "id": "XDpwf-YX-Xnz",
        "outputId": "f350f91d-164d-4b1c-d766-388a77007aa4"
      },
      "source": [
        "plot_sample(X_test, y_test, 3)"
      ],
      "execution_count": 65,
      "outputs": [
        {
          "output_type": "display_data",
          "data": {
            "image/png": "[encoded data removed]",
            "text/plain": [
              "<Figure size 1080x144 with 1 Axes>"
            ]
          },
          "metadata": {
            "tags": [],
            "needs_background": "light"
          }
        }
      ]
    },
    {
      "cell_type": "code",
      "metadata": {
        "colab": {
          "base_uri": "https://localhost:8080/",
          "height": 35
        },
        "id": "j4rjWp8S--wv",
        "outputId": "e1bb61bf-07af-4a85-a4b2-4ade1c6ee720"
      },
      "source": [
        "classes[y_classes[0]]"
      ],
      "execution_count": 64,
      "outputs": [
        {
          "output_type": "execute_result",
          "data": {
            "application/vnd.google.colaboratory.intrinsic+json": {
              "type": "string"
            },
            "text/plain": [
              "'cat'"
            ]
          },
          "metadata": {
            "tags": []
          },
          "execution_count": 64
        }
      ]
    },
    {
      "cell_type": "code",
      "metadata": {
        "colab": {
          "base_uri": "https://localhost:8080/"
        },
        "id": "DFa8UDlC_C-6",
        "outputId": "a9263e33-2562-45f7-8d75-58741e688179"
      },
      "source": [
        "print(\"Classification Report: \\n\", classification_report(y_test, y_classes))"
      ],
      "execution_count": 66,
      "outputs": [
        {
          "output_type": "stream",
          "text": [
            "Classification Report: \n",
            "               precision    recall  f1-score   support\n",
            "\n",
            "           0       0.68      0.75      0.71      1000\n",
            "           1       0.84      0.79      0.82      1000\n",
            "           2       0.59      0.61      0.60      1000\n",
            "           3       0.51      0.51      0.51      1000\n",
            "           4       0.61      0.70      0.65      1000\n",
            "           5       0.62      0.54      0.58      1000\n",
            "           6       0.79      0.74      0.77      1000\n",
            "           7       0.76      0.72      0.74      1000\n",
            "           8       0.75      0.86      0.80      1000\n",
            "           9       0.82      0.74      0.78      1000\n",
            "\n",
            "    accuracy                           0.70     10000\n",
            "   macro avg       0.70      0.70      0.69     10000\n",
            "weighted avg       0.70      0.70      0.69     10000\n",
            "\n"
          ],
          "name": "stdout"
        }
      ]
    },
    {
      "cell_type": "code",
      "metadata": {
        "id": "SLeDVwxq_ZGX"
      },
      "source": [
        ""
      ],
      "execution_count": null,
      "outputs": []
    }
  ]
}