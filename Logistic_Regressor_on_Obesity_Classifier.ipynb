{
  "nbformat": 4,
  "nbformat_minor": 0,
  "metadata": {
    "colab": {
      "name": "Logistic Regressor on Obesity Classifier",
      "provenance": [],
      "authorship_tag": "ABX9TyNnOB/4DiM71Sz6K5ujBLY8",
      "include_colab_link": true
    },
    "kernelspec": {
      "name": "python3",
      "display_name": "Python 3"
    }
  },
  "cells": [
    {
      "cell_type": "markdown",
      "metadata": {
        "id": "view-in-github",
        "colab_type": "text"
      },
      "source": [
        "<a href=\"https://colab.research.google.com/github/jangalasriramd7/MachineLearning/blob/main/Logistic_Regressor_on_Obesity_Classifier.ipynb\" target=\"_parent\"><img src=\"https://colab.research.google.com/assets/colab-badge.svg\" alt=\"Open In Colab\"/></a>"
      ]
    },
    {
      "cell_type": "code",
      "metadata": {
        "id": "G2r6yHUXnbOn",
        "outputId": "866fe82d-761e-4496-bf23-cf80a0279159",
        "colab": {
          "base_uri": "https://localhost:8080/"
        }
      },
      "source": [
        "# load and summarize the dataset\n",
        "from pandas import read_csv\n",
        "# load the dataset\n",
        "dataset = read_csv('DB_Obesity.csv')\n",
        "# summarize the dataset\n",
        "dataset.describe()\n",
        "\n",
        "# print the first 5 rows of data\n",
        "dataset.head(5)\n",
        "\n",
        "# count the number of nan values in each column\n",
        "print(dataset.isnull().sum())\n",
        "\n",
        "#removing rows that contain missing values\n",
        "from numpy import nan\n",
        "# summarize the shape of the raw data\n",
        "print(dataset.shape)\n",
        "# drop rows with missing values\n",
        "dataset.dropna(inplace=True)\n",
        "# summarize the shape of the data with missing rows removed\n",
        "print(dataset.shape)\n",
        "\n",
        "# Import label encoder \n",
        "from sklearn import preprocessing \n",
        "  \n",
        "# label_encoder object knows how to understand word labels. \n",
        "label_encoder = preprocessing.LabelEncoder() \n",
        "  \n",
        "# Encode labels in columns\n",
        "dataset['Gender']= label_encoder.fit_transform(dataset['Gender'])\n",
        "dataset['Age']= label_encoder.fit_transform(dataset['Age'])\n",
        "dataset['Height']= label_encoder.fit_transform(dataset['Height'])\n",
        "dataset['Weight']= label_encoder.fit_transform(dataset['Weight'])\n",
        "dataset['family_history_with_overweight']= label_encoder.fit_transform(dataset['family_history_with_overweight'])\n",
        "dataset['FAVC']= label_encoder.fit_transform(dataset['FAVC'])\n",
        "dataset['FCVC']= label_encoder.fit_transform(dataset['FCVC'])\n",
        "dataset['NCP']= label_encoder.fit_transform(dataset['NCP'])\n",
        "dataset['CAEC']= label_encoder.fit_transform(dataset['CAEC'])\n",
        "dataset['SMOKE']= label_encoder.fit_transform(dataset['SMOKE'])\n",
        "dataset['CH2O']= label_encoder.fit_transform(dataset['CH2O'])\n",
        "dataset['SCC']= label_encoder.fit_transform(dataset['SCC'])\n",
        "dataset['FAF']= label_encoder.fit_transform(dataset['FAF'])\n",
        "dataset['TUE']= label_encoder.fit_transform(dataset['TUE'])\n",
        "dataset['CALC']= label_encoder.fit_transform(dataset['CALC'])\n",
        "dataset['MTRANS']= label_encoder.fit_transform(dataset['MTRANS'])\n",
        "dataset['NObeyesdad']= label_encoder.fit_transform(dataset['NObeyesdad'])\n",
        "\n",
        "# print the first 5 rows of data\n",
        "dataset.head(5)\n",
        "\n",
        "x=dataset.iloc[:,0:16]\n",
        "y=dataset.iloc[:,16]\n",
        "\n",
        "from sklearn.model_selection import train_test_split\n",
        "\n",
        "X_train, X_test, y_train, y_test = train_test_split(x, y, test_size=0.2)\n",
        "\n",
        "from sklearn.linear_model import LogisticRegression\n",
        "classifier = LogisticRegression(random_state = 0)\n",
        "\n",
        "classifier.fit(X_train, y_train)\n",
        "y_pred = classifier.predict(X_test)\n",
        "from sklearn.metrics import confusion_matrix, accuracy_score\n",
        "\n",
        "\n",
        "acc =  accuracy_score(y_test, y_pred)\n",
        "\n",
        "cm = confusion_matrix(y_test, y_pred)\n",
        "\n",
        "\n",
        "print(acc)\n",
        "print('confusion Matrix')\n",
        "print(cm)"
      ],
      "execution_count": null,
      "outputs": [
        {
          "output_type": "stream",
          "text": [
            "Gender                            0\n",
            "Age                               0\n",
            "Height                            0\n",
            "Weight                            0\n",
            "family_history_with_overweight    0\n",
            "FAVC                              0\n",
            "FCVC                              0\n",
            "NCP                               0\n",
            "CAEC                              0\n",
            "SMOKE                             0\n",
            "CH2O                              0\n",
            "SCC                               0\n",
            "FAF                               0\n",
            "TUE                               0\n",
            "CALC                              0\n",
            "MTRANS                            0\n",
            "NObeyesdad                        0\n",
            "dtype: int64\n",
            "(2111, 17)\n",
            "(2111, 17)\n",
            "0.7777777777777778\n",
            "confusion Matrix\n",
            "[[66  0  0  0  0  0  0]\n",
            " [ 4 51  1  1  0  6  0]\n",
            " [ 0  0 46 12  5  0  6]\n",
            " [ 0  0  9 42  2  0  0]\n",
            " [ 0  0  0  0 54  0  0]\n",
            " [ 0  2  7  0  2 34 16]\n",
            " [ 0  1  6  2  0 12 36]]\n"
          ],
          "name": "stdout"
        },
        {
          "output_type": "stream",
          "text": [
            "/usr/local/lib/python3.6/dist-packages/sklearn/linear_model/_logistic.py:940: ConvergenceWarning: lbfgs failed to converge (status=1):\n",
            "STOP: TOTAL NO. of ITERATIONS REACHED LIMIT.\n",
            "\n",
            "Increase the number of iterations (max_iter) or scale the data as shown in:\n",
            "    https://scikit-learn.org/stable/modules/preprocessing.html\n",
            "Please also refer to the documentation for alternative solver options:\n",
            "    https://scikit-learn.org/stable/modules/linear_model.html#logistic-regression\n",
            "  extra_warning_msg=_LOGISTIC_SOLVER_CONVERGENCE_MSG)\n"
          ],
          "name": "stderr"
        }
      ]
    },
    {
      "cell_type": "code",
      "metadata": {
        "id": "rPwMBL7JnkcM"
      },
      "source": [
        ""
      ],
      "execution_count": null,
      "outputs": []
    }
  ]
}