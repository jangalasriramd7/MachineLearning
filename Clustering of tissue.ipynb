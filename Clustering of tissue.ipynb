{
  "nbformat": 4,
  "nbformat_minor": 0,
  "metadata": {
    "colab": {
      "name": "Untitled2 (1) (1).ipynb",
      "provenance": [],
      "include_colab_link": true
    },
    "kernelspec": {
      "name": "python3",
      "display_name": "Python 3"
    }
  },
  "cells": [
    {
      "cell_type": "markdown",
      "metadata": {
        "id": "view-in-github",
        "colab_type": "text"
      },
      "source": [
        "<a href=\"https://colab.research.google.com/github/jangalasriramd7/MachineLearning/blob/main/Clustering%20of%20tissue.ipynb\" target=\"_parent\"><img src=\"https://colab.research.google.com/assets/colab-badge.svg\" alt=\"Open In Colab\"/></a>"
      ]
    },
    {
      "cell_type": "code",
      "metadata": {
        "id": "_tIamCC5OFzv"
      },
      "source": [
        "import numpy as np\n",
        "import matplotlib.pyplot as plt\n",
        "import pandas as pd\n",
        "import seaborn as sns"
      ],
      "execution_count": null,
      "outputs": []
    },
    {
      "cell_type": "code",
      "metadata": {
        "id": "CW_O5u9EONGJ",
        "outputId": "3ca86d95-b11e-49a5-f47a-dcab955c91f7",
        "colab": {
          "base_uri": "https://localhost:8080/"
        }
      },
      "source": [
        "data = pd.read_excel('DB_Tissue.xls', sheet_name = 1)\n",
        "print(data.head())"
      ],
      "execution_count": null,
      "outputs": [
        {
          "output_type": "stream",
          "text": [
            "   Case # Class          I0  ...     Max IP          DR           P\n",
            "0       1   car  524.794072  ...  60.204880  220.737212  556.828334\n",
            "1       2   car  330.000000  ...  69.717361   99.084964  400.225776\n",
            "2       3   car  551.879287  ...  77.793297  253.785300  656.769449\n",
            "3       4   car  380.000000  ...  88.758446  105.198568  493.701814\n",
            "4       5   car  362.831266  ...  69.389389  103.866552  424.796503\n",
            "\n",
            "[5 rows x 11 columns]\n"
          ],
          "name": "stdout"
        }
      ]
    },
    {
      "cell_type": "code",
      "metadata": {
        "id": "nDDzeXbSPX3C",
        "outputId": "439cb262-5df8-4139-da33-07e26e92cfae",
        "colab": {
          "base_uri": "https://localhost:8080/",
          "height": 284
        }
      },
      "source": [
        "data.describe()"
      ],
      "execution_count": null,
      "outputs": [
        {
          "output_type": "execute_result",
          "data": {
            "text/html": [
              "<div>\n",
              "<style scoped>\n",
              "    .dataframe tbody tr th:only-of-type {\n",
              "        vertical-align: middle;\n",
              "    }\n",
              "\n",
              "    .dataframe tbody tr th {\n",
              "        vertical-align: top;\n",
              "    }\n",
              "\n",
              "    .dataframe thead th {\n",
              "        text-align: right;\n",
              "    }\n",
              "</style>\n",
              "<table border=\"1\" class=\"dataframe\">\n",
              "  <thead>\n",
              "    <tr style=\"text-align: right;\">\n",
              "      <th></th>\n",
              "      <th>Case #</th>\n",
              "      <th>I0</th>\n",
              "      <th>PA500</th>\n",
              "      <th>HFS</th>\n",
              "      <th>DA</th>\n",
              "      <th>Area</th>\n",
              "      <th>A/DA</th>\n",
              "      <th>Max IP</th>\n",
              "      <th>DR</th>\n",
              "      <th>P</th>\n",
              "    </tr>\n",
              "  </thead>\n",
              "  <tbody>\n",
              "    <tr>\n",
              "      <th>count</th>\n",
              "      <td>106.000000</td>\n",
              "      <td>106.000000</td>\n",
              "      <td>106.000000</td>\n",
              "      <td>106.000000</td>\n",
              "      <td>106.000000</td>\n",
              "      <td>106.000000</td>\n",
              "      <td>106.000000</td>\n",
              "      <td>106.000000</td>\n",
              "      <td>106.000000</td>\n",
              "      <td>106.000000</td>\n",
              "    </tr>\n",
              "    <tr>\n",
              "      <th>mean</th>\n",
              "      <td>53.500000</td>\n",
              "      <td>784.251618</td>\n",
              "      <td>0.120133</td>\n",
              "      <td>0.114691</td>\n",
              "      <td>190.568642</td>\n",
              "      <td>7335.155162</td>\n",
              "      <td>23.473784</td>\n",
              "      <td>75.381258</td>\n",
              "      <td>166.710575</td>\n",
              "      <td>810.638127</td>\n",
              "    </tr>\n",
              "    <tr>\n",
              "      <th>std</th>\n",
              "      <td>30.743563</td>\n",
              "      <td>753.950075</td>\n",
              "      <td>0.068596</td>\n",
              "      <td>0.101347</td>\n",
              "      <td>190.801448</td>\n",
              "      <td>18580.314213</td>\n",
              "      <td>23.354672</td>\n",
              "      <td>81.345838</td>\n",
              "      <td>181.309580</td>\n",
              "      <td>763.019135</td>\n",
              "    </tr>\n",
              "    <tr>\n",
              "      <th>min</th>\n",
              "      <td>1.000000</td>\n",
              "      <td>103.000000</td>\n",
              "      <td>0.012392</td>\n",
              "      <td>-0.066323</td>\n",
              "      <td>19.647670</td>\n",
              "      <td>70.426239</td>\n",
              "      <td>1.595742</td>\n",
              "      <td>7.968783</td>\n",
              "      <td>-9.257696</td>\n",
              "      <td>124.978561</td>\n",
              "    </tr>\n",
              "    <tr>\n",
              "      <th>25%</th>\n",
              "      <td>27.250000</td>\n",
              "      <td>250.000000</td>\n",
              "      <td>0.067413</td>\n",
              "      <td>0.043982</td>\n",
              "      <td>53.845470</td>\n",
              "      <td>409.647141</td>\n",
              "      <td>8.180321</td>\n",
              "      <td>26.893773</td>\n",
              "      <td>41.781258</td>\n",
              "      <td>270.215238</td>\n",
              "    </tr>\n",
              "    <tr>\n",
              "      <th>50%</th>\n",
              "      <td>53.500000</td>\n",
              "      <td>384.936489</td>\n",
              "      <td>0.105418</td>\n",
              "      <td>0.086568</td>\n",
              "      <td>120.777303</td>\n",
              "      <td>2219.581163</td>\n",
              "      <td>16.133657</td>\n",
              "      <td>44.216040</td>\n",
              "      <td>97.832557</td>\n",
              "      <td>454.108153</td>\n",
              "    </tr>\n",
              "    <tr>\n",
              "      <th>75%</th>\n",
              "      <td>79.750000</td>\n",
              "      <td>1487.989626</td>\n",
              "      <td>0.169602</td>\n",
              "      <td>0.166504</td>\n",
              "      <td>255.334809</td>\n",
              "      <td>7615.204968</td>\n",
              "      <td>30.953294</td>\n",
              "      <td>83.671755</td>\n",
              "      <td>232.990070</td>\n",
              "      <td>1301.559438</td>\n",
              "    </tr>\n",
              "    <tr>\n",
              "      <th>max</th>\n",
              "      <td>106.000000</td>\n",
              "      <td>2800.000000</td>\n",
              "      <td>0.358316</td>\n",
              "      <td>0.467748</td>\n",
              "      <td>1063.441427</td>\n",
              "      <td>174480.476218</td>\n",
              "      <td>164.071543</td>\n",
              "      <td>436.099640</td>\n",
              "      <td>977.552367</td>\n",
              "      <td>2896.582483</td>\n",
              "    </tr>\n",
              "  </tbody>\n",
              "</table>\n",
              "</div>"
            ],
            "text/plain": [
              "           Case #           I0       PA500  ...      Max IP          DR            P\n",
              "count  106.000000   106.000000  106.000000  ...  106.000000  106.000000   106.000000\n",
              "mean    53.500000   784.251618    0.120133  ...   75.381258  166.710575   810.638127\n",
              "std     30.743563   753.950075    0.068596  ...   81.345838  181.309580   763.019135\n",
              "min      1.000000   103.000000    0.012392  ...    7.968783   -9.257696   124.978561\n",
              "25%     27.250000   250.000000    0.067413  ...   26.893773   41.781258   270.215238\n",
              "50%     53.500000   384.936489    0.105418  ...   44.216040   97.832557   454.108153\n",
              "75%     79.750000  1487.989626    0.169602  ...   83.671755  232.990070  1301.559438\n",
              "max    106.000000  2800.000000    0.358316  ...  436.099640  977.552367  2896.582483\n",
              "\n",
              "[8 rows x 10 columns]"
            ]
          },
          "metadata": {
            "tags": []
          },
          "execution_count": 3
        }
      ]
    },
    {
      "cell_type": "code",
      "metadata": {
        "id": "-moBt9xFPcuO",
        "outputId": "7881f44e-8593-4964-f5cb-459ab142a977",
        "colab": {
          "base_uri": "https://localhost:8080/"
        }
      },
      "source": [
        "data.isna().sum()"
      ],
      "execution_count": null,
      "outputs": [
        {
          "output_type": "execute_result",
          "data": {
            "text/plain": [
              "Case #    0\n",
              "Class     0\n",
              "I0        0\n",
              "PA500     0\n",
              "HFS       0\n",
              "DA        0\n",
              "Area      0\n",
              "A/DA      0\n",
              "Max IP    0\n",
              "DR        0\n",
              "P         0\n",
              "dtype: int64"
            ]
          },
          "metadata": {
            "tags": []
          },
          "execution_count": 4
        }
      ]
    },
    {
      "cell_type": "code",
      "metadata": {
        "id": "jCuD19qqSufE"
      },
      "source": [
        "data.drop('Class',axis=1,inplace = True)\n",
        "data.drop('Case #',axis=1,inplace = True)"
      ],
      "execution_count": null,
      "outputs": []
    },
    {
      "cell_type": "code",
      "metadata": {
        "id": "3TGQE7irRbdN",
        "outputId": "a3c83418-8b72-42c1-8a8c-aa82c397ab0b",
        "colab": {
          "base_uri": "https://localhost:8080/"
        }
      },
      "source": [
        "X = data.iloc[:,[1,2]].values\n",
        "X"
      ],
      "execution_count": null,
      "outputs": [
        {
          "output_type": "execute_result",
          "data": {
            "text/plain": [
              "array([[ 0.18744836,  0.03211406],\n",
              "       [ 0.2268928 ,  0.26529005],\n",
              "       [ 0.23247786,  0.06352998],\n",
              "       [ 0.24085544,  0.286234  ],\n",
              "       [ 0.20071286,  0.2443461 ],\n",
              "       [ 0.15009832,  0.09773844],\n",
              "       [ 0.1441642 ,  0.05305801],\n",
              "       [ 0.15393804,  0.18779743],\n",
              "       [ 0.2131047 ,  0.22549654],\n",
              "       [ 0.21956242,  0.26179939],\n",
              "       [ 0.31782446,  0.2974041 ],\n",
              "       [ 0.22724187,  0.05096361],\n",
              "       [ 0.21240657,  0.06073746],\n",
              "       [ 0.28012534,  0.25202554],\n",
              "       [ 0.23020893,  0.13404129],\n",
              "       [ 0.3583161 ,  0.20385446],\n",
              "       [ 0.20751965,  0.03839724],\n",
              "       [ 0.19006636,  0.16685348],\n",
              "       [ 0.22462387,  0.28693213],\n",
              "       [ 0.20664698,  0.46774824],\n",
              "       [ 0.19268435,  0.19477874],\n",
              "       [ 0.05393067,  0.09424778],\n",
              "       [ 0.02007129,  0.09075712],\n",
              "       [ 0.18901916,  0.08168141],\n",
              "       [ 0.12199851,  0.09075712],\n",
              "       [ 0.03996804,  0.06702064],\n",
              "       [ 0.07068583,  0.00698132],\n",
              "       [ 0.06806784, -0.0153589 ],\n",
              "       [ 0.03769911,  0.11728613],\n",
              "       [ 0.06405358,  0.08447394],\n",
              "       [ 0.09145525,  0.00488692],\n",
              "       [ 0.09197885,  0.07400196],\n",
              "       [ 0.17697639,  0.16336282],\n",
              "       [ 0.10978121,  0.03560472],\n",
              "       [ 0.1727876 ,  0.11868239],\n",
              "       [ 0.12060225,  0.04607669],\n",
              "       [ 0.17086773,  0.21293017],\n",
              "       [ 0.13910274,  0.20525072],\n",
              "       [ 0.07696902,  0.16126842],\n",
              "       [ 0.04712389,  0.01396263],\n",
              "       [ 0.04537856,  0.03001966],\n",
              "       [ 0.12461651,  0.20176006],\n",
              "       [ 0.07853982,  0.01605703],\n",
              "       [ 0.10611602,  0.03141593],\n",
              "       [ 0.1272345 ,  0.03839724],\n",
              "       [ 0.17418386,  0.09075712],\n",
              "       [ 0.18291051,  0.14241887],\n",
              "       [ 0.10471976,  0.        ],\n",
              "       [ 0.07906342,  0.03281219],\n",
              "       [ 0.06370452,  0.0020944 ],\n",
              "       [ 0.17470746,  0.16545721],\n",
              "       [ 0.14713126,  0.13753195],\n",
              "       [ 0.23230332,  0.43772858],\n",
              "       [ 0.1410226 ,  0.08447394],\n",
              "       [ 0.12740904,  0.06632251],\n",
              "       [ 0.12409291,  0.07958701],\n",
              "       [ 0.16580628,  0.22759093],\n",
              "       [ 0.06335545,  0.03979351],\n",
              "       [ 0.08709193,  0.09285152],\n",
              "       [ 0.13264502,  0.07400196],\n",
              "       [ 0.13264502,  0.07400196],\n",
              "       [ 0.11780972,  0.06841691],\n",
              "       [ 0.14957472,  0.0991347 ],\n",
              "       [ 0.14974925,  0.08517207],\n",
              "       [ 0.05811946,  0.01117011],\n",
              "       [ 0.06527531,  0.02792527],\n",
              "       [ 0.08988446,  0.07679449],\n",
              "       [ 0.11763519,  0.11030481],\n",
              "       [ 0.13194689,  0.10890855],\n",
              "       [ 0.15812683,  0.29181905],\n",
              "       [ 0.05270894, -0.02094395],\n",
              "       [ 0.09232792,  0.08936086],\n",
              "       [ 0.07347836,  0.        ],\n",
              "       [ 0.10751228,  0.01884956],\n",
              "       [ 0.05654867,  0.05026548],\n",
              "       [ 0.04162833,  0.00243455],\n",
              "       [ 0.04101524,  0.14521139],\n",
              "       [ 0.02600541,  0.08656833],\n",
              "       [ 0.0408407 ,  0.04956735],\n",
              "       [ 0.10384709,  0.08237954],\n",
              "       [ 0.09878564,  0.07120943],\n",
              "       [ 0.07888888,  0.06562438],\n",
              "       [ 0.08098328,  0.08656833],\n",
              "       [ 0.08848819,  0.00418879],\n",
              "       [ 0.06195919, -0.04537856],\n",
              "       [ 0.03420845,  0.04258603],\n",
              "       [ 0.12164945,  0.37768925],\n",
              "       [ 0.01239184,  0.05845147],\n",
              "       [ 0.0439823 ,  0.1051268 ],\n",
              "       [ 0.05179831,  0.01650069],\n",
              "       [ 0.07914916,  0.06947018],\n",
              "       [ 0.08150688,  0.27157323],\n",
              "       [ 0.09197885,  0.20525072],\n",
              "       [ 0.05445427,  0.11379547],\n",
              "       [ 0.06911504,  0.15707963],\n",
              "       [ 0.07330383,  0.22549654],\n",
              "       [ 0.04764749,  0.04328417],\n",
              "       [ 0.08307767,  0.18430677],\n",
              "       [ 0.06614798,  0.35325464],\n",
              "       [ 0.08412487,  0.22060962],\n",
              "       [ 0.06719518,  0.12426744],\n",
              "       [ 0.10698868,  0.10541789],\n",
              "       [ 0.20053833,  0.20804325],\n",
              "       [ 0.07190757, -0.06632251],\n",
              "       [ 0.04502949,  0.13683381],\n",
              "       [ 0.0699877 ,  0.04886922]])"
            ]
          },
          "metadata": {
            "tags": []
          },
          "execution_count": 6
        }
      ]
    },
    {
      "cell_type": "markdown",
      "metadata": {
        "id": "Fos9qn4zSMid"
      },
      "source": [
        "Kmeans"
      ]
    },
    {
      "cell_type": "code",
      "metadata": {
        "id": "QlYqfj3pR5Vj",
        "outputId": "621ace55-ad35-4a4f-8deb-b6143441b873",
        "colab": {
          "base_uri": "https://localhost:8080/",
          "height": 295
        }
      },
      "source": [
        "from sklearn.cluster import KMeans\n",
        "wcss = []\n",
        "for i in range(1, 10):\n",
        "  kmeans = KMeans(n_clusters = i, init = 'k-means++', random_state = 0)\n",
        "  kmeans.fit(X)\n",
        "  wcss.append(kmeans.inertia_)\n",
        "plt.plot(range(1, 10), wcss)\n",
        "plt.title('The Elbow Method')\n",
        "plt.xlabel('Number of clusters')\n",
        "plt.ylabel('WCSS (Within Cluster Sum of Squares)')\n",
        "plt.show()"
      ],
      "execution_count": null,
      "outputs": [
        {
          "output_type": "display_data",
          "data": {
            "image/png": "[encoded data removed]",
            "text/plain": [
              "<Figure size 432x288 with 1 Axes>"
            ]
          },
          "metadata": {
            "tags": [],
            "needs_background": "light"
          }
        }
      ]
    },
    {
      "cell_type": "code",
      "metadata": {
        "id": "ZEgl8u64SJSF"
      },
      "source": [
        "kmeans = KMeans(n_clusters = 2, init = 'k-means++', random_state = 0)\n",
        "pred = kmeans.fit_predict(X)"
      ],
      "execution_count": null,
      "outputs": []
    },
    {
      "cell_type": "code",
      "metadata": {
        "id": "WYmOT2uTSQTd",
        "outputId": "403f1833-3a9a-4c5b-e666-1ffd07e39578",
        "colab": {
          "base_uri": "https://localhost:8080/"
        }
      },
      "source": [
        "from sklearn import metrics\n",
        "score1 = metrics.silhouette_score(X, kmeans.labels_, metric='euclidean')\n",
        "print(\"Score of KMeans = \", score1)"
      ],
      "execution_count": null,
      "outputs": [
        {
          "output_type": "stream",
          "text": [
            "Score of KMeans =  0.5282092767371109\n"
          ],
          "name": "stdout"
        }
      ]
    },
    {
      "cell_type": "code",
      "metadata": {
        "id": "WsH4e3ErSXm9",
        "outputId": "195bba04-dc88-4ecb-a689-e8418dea3cc9",
        "colab": {
          "base_uri": "https://localhost:8080/",
          "height": 609
        }
      },
      "source": [
        "# Visualising the clusters\n",
        "plt.figure(figsize=(15,10))\n",
        "plt.scatter(X[pred == 0,0], X[pred == 0,1], s = 100, c = 'red', label ='Cluster 1')\n",
        "plt.scatter(X[pred == 1,0], X[pred == 1,1], s = 100, c = 'blue', label ='Cluster 2')"
      ],
      "execution_count": null,
      "outputs": [
        {
          "output_type": "execute_result",
          "data": {
            "text/plain": [
              "<matplotlib.collections.PathCollection at 0x7f558cfd67b8>"
            ]
          },
          "metadata": {
            "tags": []
          },
          "execution_count": 10
        },
        {
          "output_type": "display_data",
          "data": {
            "image/png": "[encoded data removed]",
            "text/plain": [
              "<Figure size 1080x720 with 1 Axes>"
            ]
          },
          "metadata": {
            "tags": [],
            "needs_background": "light"
          }
        }
      ]
    },
    {
      "cell_type": "markdown",
      "metadata": {
        "id": "BKEFKMkgVSSP"
      },
      "source": [
        "Hierarchical"
      ]
    },
    {
      "cell_type": "code",
      "metadata": {
        "id": "caio_GvyT0_f",
        "outputId": "ff5b8964-d083-4f62-de60-c0f3de1af723",
        "colab": {
          "base_uri": "https://localhost:8080/",
          "height": 295
        }
      },
      "source": [
        "import scipy.cluster.hierarchy as sch\n",
        "dendrogram = sch.dendrogram(sch.linkage(X, method = 'ward'))\n",
        "plt.title('Dendrogram')\n",
        "plt.xlabel('Customers')\n",
        "plt.ylabel('Euclidean distances')\n",
        "plt.show()"
      ],
      "execution_count": null,
      "outputs": [
        {
          "output_type": "display_data",
          "data": {
            "image/png": "[encoded data removed]",
            "text/plain": [
              "<Figure size 432x288 with 1 Axes>"
            ]
          },
          "metadata": {
            "tags": [],
            "needs_background": "light"
          }
        }
      ]
    },
    {
      "cell_type": "code",
      "metadata": {
        "id": "KhfCyaaOVW14"
      },
      "source": [
        "from sklearn.cluster import AgglomerativeClustering\n",
        "hc = AgglomerativeClustering(n_clusters = 2, affinity = 'euclidean', linkage ='ward')\n",
        "y_hc = hc.fit_predict(X)\n",
        "labels_agg = hc.labels_"
      ],
      "execution_count": null,
      "outputs": []
    },
    {
      "cell_type": "code",
      "metadata": {
        "id": "U3DD8INDVeNk",
        "outputId": "45154161-3a27-4062-e7a2-575c7609ddf9",
        "colab": {
          "base_uri": "https://localhost:8080/"
        }
      },
      "source": [
        "score_agg = metrics.silhouette_score(data,labels_agg)\n",
        "print(\"Score of Agglomerative =\", score_agg)"
      ],
      "execution_count": null,
      "outputs": [
        {
          "output_type": "stream",
          "text": [
            "Score of Agglomerative = 0.3647554956260266\n"
          ],
          "name": "stdout"
        }
      ]
    },
    {
      "cell_type": "code",
      "metadata": {
        "id": "Xc0AnmDrVgNz",
        "outputId": "32b752ca-f277-407f-ecbf-5b0062df4e2a",
        "colab": {
          "base_uri": "https://localhost:8080/",
          "height": 609
        }
      },
      "source": [
        "plt.figure(figsize=(15,10))\n",
        "plt.scatter(X[y_hc == 0, 0], X[y_hc == 0, 1], s = 100, c = 'red', label ='Cluster 1')\n",
        "plt.scatter(X[y_hc == 1, 0], X[y_hc == 1, 1], s = 100, c = 'blue', label ='Cluster 2')"
      ],
      "execution_count": null,
      "outputs": [
        {
          "output_type": "execute_result",
          "data": {
            "text/plain": [
              "<matplotlib.collections.PathCollection at 0x7f558a63eb70>"
            ]
          },
          "metadata": {
            "tags": []
          },
          "execution_count": 14
        },
        {
          "output_type": "display_data",
          "data": {
            "image/png": "[encoded data removed]",
            "text/plain": [
              "<Figure size 1080x720 with 1 Axes>"
            ]
          },
          "metadata": {
            "tags": [],
            "needs_background": "light"
          }
        }
      ]
    }
  ]
}